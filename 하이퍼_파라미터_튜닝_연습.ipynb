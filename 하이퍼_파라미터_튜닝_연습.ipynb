{
  "cells": [
    {
      "cell_type": "markdown",
      "metadata": {
        "id": "view-in-github",
        "colab_type": "text"
      },
      "source": [
        "<a href=\"https://colab.research.google.com/github/Koalajuni/Naver_AI_Project/blob/main/%ED%95%98%EC%9D%B4%ED%8D%BC_%ED%8C%8C%EB%9D%BC%EB%AF%B8%ED%84%B0_%ED%8A%9C%EB%8B%9D_%EC%97%B0%EC%8A%B5.ipynb\" target=\"_parent\"><img src=\"https://colab.research.google.com/assets/colab-badge.svg\" alt=\"Open In Colab\"/></a>"
      ]
    },
    {
      "cell_type": "markdown",
      "id": "premier-retrieval",
      "metadata": {
        "id": "premier-retrieval"
      },
      "source": [
        "# [10차시] 하이퍼 파라미터 튜닝 연습\n",
        "\n",
        "* 세번째 베이스라인 모델에서 LightGBM에 Optuna를 이용하고 하이퍼 파라미터 튜닝을 적용합니다."
      ]
    },
    {
      "cell_type": "markdown",
      "id": "retained-sheep",
      "metadata": {
        "id": "retained-sheep"
      },
      "source": [
        "## Function 정의\n",
        "\n",
        "- seed_everything() : seed 고정 함수\n",
        "- generate_label() : label 생성 함수\n",
        "- print_score() : 평가지표 출력 함수\n",
        "- feature_preprocessing() : 데이터 전처리 함수(label encoding, 결측치 처리)\n",
        "- feature_engineering1() : 피처 엔지니어링 함수\n",
        "- make_lgb_oof_prediction() : LightGBM cross validation out of fold train/predict 함수\n",
        "- plot_feature_importances() : 피처 중요도 플롯 함수\n",
        "- objective() : optuna objective 함수"
      ]
    },
    {
      "cell_type": "code",
      "source": [
        "pip install optuna"
      ],
      "metadata": {
        "colab": {
          "base_uri": "https://localhost:8080/"
        },
        "id": "q48vgQhV3zuJ",
        "outputId": "61654f86-ec88-49fe-922b-f0acfa8c8275"
      },
      "id": "q48vgQhV3zuJ",
      "execution_count": 15,
      "outputs": [
        {
          "output_type": "stream",
          "name": "stdout",
          "text": [
            "Collecting optuna\n",
            "  Downloading optuna-3.6.1-py3-none-any.whl (380 kB)\n",
            "\u001b[2K     \u001b[90m━━━━━━━━━━━━━━━━━━━━━━━━━━━━━━━━━━━━━━━━\u001b[0m \u001b[32m380.1/380.1 kB\u001b[0m \u001b[31m4.1 MB/s\u001b[0m eta \u001b[36m0:00:00\u001b[0m\n",
            "\u001b[?25hCollecting alembic>=1.5.0 (from optuna)\n",
            "  Downloading alembic-1.13.1-py3-none-any.whl (233 kB)\n",
            "\u001b[2K     \u001b[90m━━━━━━━━━━━━━━━━━━━━━━━━━━━━━━━━━━━━━━━━\u001b[0m \u001b[32m233.4/233.4 kB\u001b[0m \u001b[31m7.4 MB/s\u001b[0m eta \u001b[36m0:00:00\u001b[0m\n",
            "\u001b[?25hCollecting colorlog (from optuna)\n",
            "  Downloading colorlog-6.8.2-py3-none-any.whl (11 kB)\n",
            "Requirement already satisfied: numpy in /usr/local/lib/python3.10/dist-packages (from optuna) (1.25.2)\n",
            "Requirement already satisfied: packaging>=20.0 in /usr/local/lib/python3.10/dist-packages (from optuna) (24.0)\n",
            "Requirement already satisfied: sqlalchemy>=1.3.0 in /usr/local/lib/python3.10/dist-packages (from optuna) (2.0.29)\n",
            "Requirement already satisfied: tqdm in /usr/local/lib/python3.10/dist-packages (from optuna) (4.66.2)\n",
            "Requirement already satisfied: PyYAML in /usr/local/lib/python3.10/dist-packages (from optuna) (6.0.1)\n",
            "Collecting Mako (from alembic>=1.5.0->optuna)\n",
            "  Downloading Mako-1.3.3-py3-none-any.whl (78 kB)\n",
            "\u001b[2K     \u001b[90m━━━━━━━━━━━━━━━━━━━━━━━━━━━━━━━━━━━━━━━━\u001b[0m \u001b[32m78.8/78.8 kB\u001b[0m \u001b[31m9.6 MB/s\u001b[0m eta \u001b[36m0:00:00\u001b[0m\n",
            "\u001b[?25hRequirement already satisfied: typing-extensions>=4 in /usr/local/lib/python3.10/dist-packages (from alembic>=1.5.0->optuna) (4.11.0)\n",
            "Requirement already satisfied: greenlet!=0.4.17 in /usr/local/lib/python3.10/dist-packages (from sqlalchemy>=1.3.0->optuna) (3.0.3)\n",
            "Requirement already satisfied: MarkupSafe>=0.9.2 in /usr/local/lib/python3.10/dist-packages (from Mako->alembic>=1.5.0->optuna) (2.1.5)\n",
            "Installing collected packages: Mako, colorlog, alembic, optuna\n",
            "Successfully installed Mako-1.3.3 alembic-1.13.1 colorlog-6.8.2 optuna-3.6.1\n"
          ]
        }
      ]
    },
    {
      "cell_type": "markdown",
      "id": "annoying-benchmark",
      "metadata": {
        "id": "annoying-benchmark"
      },
      "source": [
        "## Library Import"
      ]
    },
    {
      "cell_type": "code",
      "execution_count": 48,
      "id": "floral-approach",
      "metadata": {
        "id": "floral-approach"
      },
      "outputs": [],
      "source": [
        "# Suppress warnings\n",
        "import warnings\n",
        "warnings.filterwarnings('ignore')\n",
        "\n",
        "import os, sys, gc, warnings, random\n",
        "from typing import List\n",
        "\n",
        "import datetime\n",
        "import dateutil.relativedelta\n",
        "\n",
        "# Data manipulation\n",
        "import pandas as pd\n",
        "import numpy as np\n",
        "\n",
        "# Visualization\n",
        "import matplotlib.pyplot as plt\n",
        "import seaborn as sns\n",
        "\n",
        "# Machine learning\n",
        "from sklearn.pipeline import Pipeline\n",
        "from sklearn.preprocessing import MinMaxScaler, LabelEncoder\n",
        "from sklearn.impute import SimpleImputer\n",
        "from sklearn.metrics import precision_score, recall_score, f1_score, roc_auc_score, precision_recall_curve, roc_curve\n",
        "from sklearn.model_selection import train_test_split, cross_val_score, KFold, StratifiedKFold, GroupKFold\n",
        "from sklearn.ensemble import RandomForestClassifier\n",
        "\n",
        "import lightgbm as lgb\n",
        "import optuna\n",
        "\n",
        "from tqdm.notebook import trange, tqdm\n",
        "\n",
        "from IPython.display import display\n",
        "\n",
        "%matplotlib inline\n",
        "\n",
        "pd.options.display.max_rows = 10000\n",
        "pd.options.display.max_columns = 1000\n",
        "pd.options.display.max_colwidth = 1000"
      ]
    },
    {
      "cell_type": "markdown",
      "id": "enabling-shadow",
      "metadata": {
        "id": "enabling-shadow"
      },
      "source": [
        "## Fix Seed 함수 정의"
      ]
    },
    {
      "cell_type": "code",
      "execution_count": 49,
      "id": "acknowledged-battlefield",
      "metadata": {
        "id": "acknowledged-battlefield"
      },
      "outputs": [],
      "source": [
        "'''\n",
        "    결과의 재현성을 위해 seed 값을 설정하는 함수\n",
        "'''\n",
        "def seed_everything(seed=0):\n",
        "    random.seed(seed)\n",
        "    os.environ['PYTHONHASHSEED'] = str(seed)\n",
        "    np.random.seed(seed)\n",
        "\n",
        "SEED = 42\n",
        "seed_everything(SEED)"
      ]
    },
    {
      "cell_type": "markdown",
      "id": "outside-karma",
      "metadata": {
        "id": "outside-karma"
      },
      "source": [
        "## 레이블 생성 함수 정의\n",
        "\n",
        "- 레이블 생성 함수는 연월을 인자로 받아서 고객 아이디별로 총 구매액이 인자로 받는 구매액 임계값을 넘는지 여부를 바이너리 레이블로 생성하는 함수"
      ]
    },
    {
      "cell_type": "code",
      "execution_count": 50,
      "id": "signed-calcium",
      "metadata": {
        "id": "signed-calcium"
      },
      "outputs": [],
      "source": [
        "TOTAL_THRES = 300\n",
        "\n",
        "'''\n",
        "    입력인자로 받는 year_month에 대해 고객 ID별로 총 구매액이\n",
        "    구매액 임계값을 넘는지 여부의 binary label을 생성하는 함수\n",
        "'''\n",
        "def generate_label(df, year_month, total_thres=TOTAL_THRES, print_log=False):\n",
        "    df = df.copy()\n",
        "\n",
        "    # year_month에 해당하는 label 데이터 생성\n",
        "    df['year_month'] = df['order_date'].dt.strftime('%Y-%m')\n",
        "    df.reset_index(drop=True, inplace=True)\n",
        "\n",
        "    # year_month 이전 월의 고객 ID 추출\n",
        "    cust = df[df['year_month']<year_month]['customer_id'].unique()\n",
        "    # year_month에 해당하는 데이터 선택\n",
        "    df = df[df['year_month']==year_month]\n",
        "\n",
        "    # label 데이터프레임 생성\n",
        "    label = pd.DataFrame({'customer_id':cust})\n",
        "    label['year_month'] = year_month\n",
        "\n",
        "    # year_month에 해당하는 고객 ID의 구매액의 합 계산\n",
        "    grped = df.groupby(['customer_id','year_month'], as_index=False)[['total']].sum()\n",
        "\n",
        "    # label 데이터프레임과 merge하고 구매액 임계값을 넘었는지 여부로 label 생성\n",
        "    label = label.merge(grped, on=['customer_id','year_month'], how='left')\n",
        "    label['total'].fillna(0.0, inplace=True)\n",
        "    label['label'] = (label['total'] > total_thres).astype(int)\n",
        "\n",
        "    # 고객 ID로 정렬\n",
        "    label = label.sort_values('customer_id').reset_index(drop=True)\n",
        "    if print_log: print(f'{year_month} - final label shape: {label.shape}')\n",
        "\n",
        "    return label"
      ]
    },
    {
      "cell_type": "markdown",
      "id": "registered-flour",
      "metadata": {
        "id": "registered-flour"
      },
      "source": [
        "## 평가지표 출력 함수 정의"
      ]
    },
    {
      "cell_type": "code",
      "execution_count": 51,
      "id": "polish-grammar",
      "metadata": {
        "id": "polish-grammar"
      },
      "outputs": [],
      "source": [
        "'''\n",
        "    평가지표를 출력하는 함수\n",
        "'''\n",
        "def print_score(label: List[float], pred: List[float], prob_thres: float = 0.5):\n",
        "    print('Precision: {:.5f}'.format(precision_score(label, pred>prob_thres)))\n",
        "    print('Recall: {:.5f}'.format(recall_score(label, pred>prob_thres)))\n",
        "    print('F1 Score: {:.5f}'.format(f1_score(label, pred>prob_thres)))\n",
        "    print('ROC AUC Score: {:.5f}'.format(roc_auc_score(label, pred)))"
      ]
    },
    {
      "cell_type": "markdown",
      "id": "invisible-taiwan",
      "metadata": {
        "id": "invisible-taiwan"
      },
      "source": [
        "## 데이터 전처리 함수 정의\n",
        "- 범주형 변수 레이블 인코딩\n",
        "- 결측치 중위값으로 채움"
      ]
    },
    {
      "cell_type": "code",
      "execution_count": 52,
      "id": "level-lodging",
      "metadata": {
        "id": "level-lodging"
      },
      "outputs": [],
      "source": [
        "'''\n",
        "    입력인자로 받는 train, test 데이터에 대해 범주형 피쳐는 레이블 인코딩을\n",
        "    진행하고 결측치에 대해서는 중위값으로 데이터 전처리를 하는 함수\n",
        "'''\n",
        "def feature_preprocessing(\n",
        "    train: pd.DataFrame,\n",
        "    test: pd.DataFrame,\n",
        "    features: list,\n",
        "    do_imputing=True\n",
        "):\n",
        "    x_tr = train.copy()\n",
        "    x_te = test.copy()\n",
        "\n",
        "    # 범주형 피처 이름을 저장할 변수\n",
        "    cate_cols = []\n",
        "\n",
        "    # 레이블 인코딩\n",
        "    for f in features:\n",
        "        if x_tr[f].dtype.name == 'object': # 데이터 타입이 object(str)이면 레이블 인코딩\n",
        "            cate_cols.append(f)\n",
        "            le = LabelEncoder()\n",
        "            # train + test 데이터를 합쳐서 레이블 인코딩 함수에 fit\n",
        "            le.fit(list(x_tr[f].values) + list(x_te[f].values))\n",
        "\n",
        "            # train 데이터 레이블 인코딩 변환 수행\n",
        "            x_tr[f] = le.transform(list(x_tr[f].values))\n",
        "\n",
        "            # test 데이터 레이블 인코딩 변환 수행\n",
        "            x_te[f] = le.transform(list(x_te[f].values))\n",
        "\n",
        "    print('categorical feature:', cate_cols)\n",
        "\n",
        "    if do_imputing:\n",
        "        # 중위값으로 결측치 채우기\n",
        "        imputer = SimpleImputer(strategy='median')\n",
        "\n",
        "        x_tr[features] = imputer.fit_transform(x_tr[features])\n",
        "        x_te[features] = imputer.transform(x_te[features])\n",
        "\n",
        "    return x_tr, x_te"
      ]
    },
    {
      "cell_type": "markdown",
      "id": "raising-qatar",
      "metadata": {
        "id": "raising-qatar"
      },
      "source": [
        "## 피처 엔지니어링 함수 정의\n",
        "- Pandas groupby aggregation 함수를 사용한 피처 엔지니어링"
      ]
    },
    {
      "cell_type": "code",
      "execution_count": 53,
      "id": "acceptable-geography",
      "metadata": {
        "id": "acceptable-geography"
      },
      "outputs": [],
      "source": [
        "'''\n",
        "    입력인자로 받는 year_month와 변수 prev_ym 기준으로 train, test 데이터를 생성 하고\n",
        "    집계(aggregation) 함수를 사용하여 피처 엔지니어링을 하는 함수\n",
        "'''\n",
        "def feature_engineering1(df: pd.DataFrame, year_month: str):\n",
        "    df = df.copy()\n",
        "\n",
        "    # year_month 이전 월 계산\n",
        "    d = datetime.datetime.strptime(year_month, \"%Y-%m\")\n",
        "    prev_ym = d - dateutil.relativedelta.relativedelta(months=1)\n",
        "    prev_ym = prev_ym.strftime('%Y-%m')\n",
        "\n",
        "    # train, test 데이터 선택\n",
        "    train = df[df['order_date'] < prev_ym]\n",
        "    test = df[df['order_date'] < year_month]\n",
        "\n",
        "    # train, test 레이블 데이터 생성\n",
        "    train_label = generate_label(df, prev_ym)[['customer_id','year_month','label']]\n",
        "    test_label = generate_label(df, year_month)[['customer_id','year_month','label']]\n",
        "\n",
        "    # group by aggregation 함수 선언\n",
        "    agg_func = ['mean','max','min','sum','count','std','skew']\n",
        "    all_train_data = pd.DataFrame()\n",
        "\n",
        "    for i, tr_ym in enumerate(train_label['year_month'].unique()):\n",
        "        # group by aggretation 함수로 train 데이터 피처 생성\n",
        "        train_agg = train.loc[train['order_date'] < tr_ym, ['customer_id', 'price', 'quantity', 'total']].groupby(['customer_id']).agg(agg_func)\n",
        "\n",
        "        # 멀티 레벨 컬럼을 사용하기 쉽게 1 레벨 컬럼명으로 변경\n",
        "        new_cols = []\n",
        "        for col in train_agg.columns.levels[0]:\n",
        "            for stat in train_agg.columns.levels[1]:\n",
        "                new_cols.append(f'{col}-{stat}')\n",
        "\n",
        "        train_agg.columns = new_cols\n",
        "        train_agg.reset_index(inplace = True)\n",
        "\n",
        "        train_agg['year_month'] = tr_ym\n",
        "\n",
        "        all_train_data = pd.concat([all_train_data, train_agg])\n",
        "\n",
        "    all_train_data = train_label.merge(all_train_data, on=['customer_id', 'year_month'], how='left')\n",
        "    features = all_train_data.drop(columns=['customer_id', 'label', 'year_month']).columns\n",
        "\n",
        "    # group by aggretation 함수로 test 데이터 피처 생성\n",
        "    test_agg = test[['customer_id','price','quantity','total']].groupby(['customer_id']).agg(agg_func)\n",
        "    test_agg.columns = new_cols\n",
        "\n",
        "    test_data = test_label.merge(test_agg, on=['customer_id'], how='left')\n",
        "\n",
        "    # train, test 데이터 전처리\n",
        "    x_tr, x_te = feature_preprocessing(all_train_data, test_data, features)\n",
        "\n",
        "    print('x_tr.shape', x_tr.shape, ', x_te.shape', x_te.shape)\n",
        "\n",
        "    return x_tr, x_te, all_train_data['label'], features"
      ]
    },
    {
      "cell_type": "markdown",
      "id": "miniature-cleaner",
      "metadata": {
        "id": "miniature-cleaner"
      },
      "source": [
        "## LightGBM cross validation out of fold train/predict 함수 정의"
      ]
    },
    {
      "cell_type": "code",
      "execution_count": 60,
      "id": "backed-stylus",
      "metadata": {
        "id": "backed-stylus"
      },
      "outputs": [],
      "source": [
        "'''\n",
        "    학습 데이터(x_tr), 검증 데이터(x_val), 테스트 데이터(test)로 LightGBM 모델을\n",
        "    학습, 교차(cross) 검증 및 테스트하고 사용된 피처들의 중요도를 반환하는 함수\n",
        "'''\n",
        "\n",
        "def make_lgb_oof_prediction(train, y, test, features, categorical_features='auto', model_params=None, folds=10):\n",
        "    x_train = train[features]\n",
        "    x_test = test[features]\n",
        "\n",
        "    # 테스트 데이터 예측값을 저장할 변수\n",
        "    test_preds = np.zeros(x_test.shape[0])\n",
        "\n",
        "    # Out Of Fold Validation 예측 데이터를 저장할 변수\n",
        "    y_oof = np.zeros(x_train.shape[0])\n",
        "\n",
        "    # 폴드별 평균 Validation 스코어를 저장할 변수\n",
        "    score = 0\n",
        "\n",
        "    # 피처 중요도를 저장할 데이터 프레임 선언\n",
        "    fi = pd.DataFrame()\n",
        "    fi['feature'] = features\n",
        "\n",
        "    # Stratified K Fold 선언\n",
        "    skf = StratifiedKFold(n_splits=folds, shuffle=True, random_state=SEED)\n",
        "\n",
        "    for fold, (tr_idx, val_idx) in enumerate(skf.split(x_train, y)):\n",
        "        # train index, validation index로 train 데이터를 나눔\n",
        "        x_tr, x_val = x_train.loc[tr_idx, features], x_train.loc[val_idx, features]\n",
        "        y_tr, y_val = y[tr_idx], y[val_idx]\n",
        "\n",
        "        print(f'fold: {fold+1}, x_tr.shape: {x_tr.shape}, x_val.shape: {x_val.shape}')\n",
        "\n",
        "        # LightGBM 데이터셋 선언\n",
        "        dtrain = lgb.Dataset(x_tr, label=y_tr)\n",
        "        dvalid = lgb.Dataset(x_val, label=y_val)\n",
        "\n",
        "        # LightGBM 모델 훈련\n",
        "        clf = lgb.train(\n",
        "            model_params,\n",
        "            dtrain,\n",
        "            valid_sets=[dtrain, dvalid], # Validation 성능을 측정할 수 있도록 설정\n",
        "            categorical_feature=categorical_features,\n",
        "        )\n",
        "\n",
        "        # Validation 데이터 예측\n",
        "        val_preds = clf.predict(x_val)\n",
        "\n",
        "        # Validation index에 예측값 저장\n",
        "        y_oof[val_idx] = val_preds\n",
        "\n",
        "        # 폴드별 Validation 스코어 측정\n",
        "        print(f\"Fold {fold + 1} | AUC: {roc_auc_score(y_val, val_preds)}\")\n",
        "        print('-'*80)\n",
        "\n",
        "        # score 변수에 폴드별 평균 Validation 스코어 저장\n",
        "        score += roc_auc_score(y_val, val_preds) / folds\n",
        "\n",
        "        # 테스트 데이터 예측하고 평균해서 저장\n",
        "        test_preds += clf.predict(x_test) / folds\n",
        "\n",
        "        # 폴드별 피처 중요도 저장\n",
        "        fi[f'fold_{fold+1}'] = clf.feature_importance()\n",
        "\n",
        "        del x_tr, x_val, y_tr, y_val\n",
        "        gc.collect()\n",
        "\n",
        "    print(f\"\\nMean AUC = {score}\") # 폴드별 Validation 스코어 출력\n",
        "    print(f\"OOF AUC = {roc_auc_score(y, y_oof)}\") # Out Of Fold Validation 스코어 출력\n",
        "\n",
        "    # 폴드별 피처 중요도 평균값 계산해서 저장\n",
        "    fi_cols = [col for col in fi.columns if 'fold_' in col]\n",
        "    fi['importance'] = fi[fi_cols].mean(axis=1)\n",
        "\n",
        "    return y_oof, test_preds, fi"
      ]
    },
    {
      "cell_type": "markdown",
      "id": "laughing-knife",
      "metadata": {
        "id": "laughing-knife"
      },
      "source": [
        "## 피처 중요도 플롯 함수 정의"
      ]
    },
    {
      "cell_type": "code",
      "execution_count": 61,
      "id": "discrete-consideration",
      "metadata": {
        "id": "discrete-consideration"
      },
      "outputs": [],
      "source": [
        "'''\n",
        "    피처 중요도 정규화(importance_normalized) 및 누적 중요도(cumulative_importance)를 계산하고\n",
        "    중요도 정규화 순으로 n개의 바플롯을 그리는 함수\n",
        "'''\n",
        "def plot_feature_importances(df, n=20, color='blue', figsize=(12,8)):\n",
        "    # 피처 중요도 순으로 내림차순 정렬\n",
        "    df = df.sort_values('importance', ascending = False).reset_index(drop = True)\n",
        "\n",
        "    # 피처 중요도 정규화 및 누적 중요도 계산\n",
        "    df['importance_normalized'] = df['importance'] / df['importance'].sum()\n",
        "    df['cumulative_importance'] = np.cumsum(df['importance_normalized'])\n",
        "\n",
        "    plt.rcParams['font.size'] = 12\n",
        "    plt.style.use('fivethirtyeight')\n",
        "    # 피처 중요도 순으로 n개까지 바플롯으로 그리기\n",
        "    df.loc[:n, :].plot.barh(y='importance_normalized',\n",
        "                            x='feature', color=color,\n",
        "                            edgecolor='k', figsize=figsize,\n",
        "                            legend=False)\n",
        "\n",
        "    plt.xlabel('Normalized Importance', size=18); plt.ylabel('');\n",
        "    plt.title(f'Top {n} Most Important Features', size=18)\n",
        "    plt.gca().invert_yaxis()\n",
        "\n",
        "    return df"
      ]
    },
    {
      "cell_type": "markdown",
      "id": "abandoned-going",
      "metadata": {
        "id": "abandoned-going"
      },
      "source": [
        "## Train 데이터 읽기\n",
        "- 9개의 feature를 가진 780502개의 train data"
      ]
    },
    {
      "cell_type": "code",
      "execution_count": 56,
      "id": "allied-success",
      "metadata": {
        "id": "allied-success",
        "outputId": "b48a023c-58d1-43ab-d4e9-c643dab8f94d",
        "colab": {
          "base_uri": "https://localhost:8080/",
          "height": 311
        }
      },
      "outputs": [
        {
          "output_type": "stream",
          "name": "stdout",
          "text": [
            "(780502, 9)\n"
          ]
        },
        {
          "output_type": "execute_result",
          "data": {
            "text/plain": [
              "  order_id product_id                          description  quantity  \\\n",
              "0   489434      85048  15CM CHRISTMAS GLASS BALL 20 LIGHTS        12   \n",
              "1   489434     79323P                   PINK CHERRY LIGHTS        12   \n",
              "2   489434     79323W                  WHITE CHERRY LIGHTS        12   \n",
              "3   489434      22041         RECORD FRAME 7\" SINGLE SIZE         48   \n",
              "4   489434      21232       STRAWBERRY CERAMIC TRINKET BOX        24   \n",
              "\n",
              "           order_date    price  customer_id         country   total  \n",
              "0 2009-12-01 07:45:00  11.4675        13085  United Kingdom  137.61  \n",
              "1 2009-12-01 07:45:00  11.1375        13085  United Kingdom  133.65  \n",
              "2 2009-12-01 07:45:00  11.1375        13085  United Kingdom  133.65  \n",
              "3 2009-12-01 07:45:00   3.4650        13085  United Kingdom  166.32  \n",
              "4 2009-12-01 07:45:00   2.0625        13085  United Kingdom   49.50  "
            ],
            "text/html": [
              "\n",
              "  <div id=\"df-a2c4fb55-c174-4f65-a5a9-151c68f7be6d\" class=\"colab-df-container\">\n",
              "    <div>\n",
              "<style scoped>\n",
              "    .dataframe tbody tr th:only-of-type {\n",
              "        vertical-align: middle;\n",
              "    }\n",
              "\n",
              "    .dataframe tbody tr th {\n",
              "        vertical-align: top;\n",
              "    }\n",
              "\n",
              "    .dataframe thead th {\n",
              "        text-align: right;\n",
              "    }\n",
              "</style>\n",
              "<table border=\"1\" class=\"dataframe\">\n",
              "  <thead>\n",
              "    <tr style=\"text-align: right;\">\n",
              "      <th></th>\n",
              "      <th>order_id</th>\n",
              "      <th>product_id</th>\n",
              "      <th>description</th>\n",
              "      <th>quantity</th>\n",
              "      <th>order_date</th>\n",
              "      <th>price</th>\n",
              "      <th>customer_id</th>\n",
              "      <th>country</th>\n",
              "      <th>total</th>\n",
              "    </tr>\n",
              "  </thead>\n",
              "  <tbody>\n",
              "    <tr>\n",
              "      <th>0</th>\n",
              "      <td>489434</td>\n",
              "      <td>85048</td>\n",
              "      <td>15CM CHRISTMAS GLASS BALL 20 LIGHTS</td>\n",
              "      <td>12</td>\n",
              "      <td>2009-12-01 07:45:00</td>\n",
              "      <td>11.4675</td>\n",
              "      <td>13085</td>\n",
              "      <td>United Kingdom</td>\n",
              "      <td>137.61</td>\n",
              "    </tr>\n",
              "    <tr>\n",
              "      <th>1</th>\n",
              "      <td>489434</td>\n",
              "      <td>79323P</td>\n",
              "      <td>PINK CHERRY LIGHTS</td>\n",
              "      <td>12</td>\n",
              "      <td>2009-12-01 07:45:00</td>\n",
              "      <td>11.1375</td>\n",
              "      <td>13085</td>\n",
              "      <td>United Kingdom</td>\n",
              "      <td>133.65</td>\n",
              "    </tr>\n",
              "    <tr>\n",
              "      <th>2</th>\n",
              "      <td>489434</td>\n",
              "      <td>79323W</td>\n",
              "      <td>WHITE CHERRY LIGHTS</td>\n",
              "      <td>12</td>\n",
              "      <td>2009-12-01 07:45:00</td>\n",
              "      <td>11.1375</td>\n",
              "      <td>13085</td>\n",
              "      <td>United Kingdom</td>\n",
              "      <td>133.65</td>\n",
              "    </tr>\n",
              "    <tr>\n",
              "      <th>3</th>\n",
              "      <td>489434</td>\n",
              "      <td>22041</td>\n",
              "      <td>RECORD FRAME 7\" SINGLE SIZE</td>\n",
              "      <td>48</td>\n",
              "      <td>2009-12-01 07:45:00</td>\n",
              "      <td>3.4650</td>\n",
              "      <td>13085</td>\n",
              "      <td>United Kingdom</td>\n",
              "      <td>166.32</td>\n",
              "    </tr>\n",
              "    <tr>\n",
              "      <th>4</th>\n",
              "      <td>489434</td>\n",
              "      <td>21232</td>\n",
              "      <td>STRAWBERRY CERAMIC TRINKET BOX</td>\n",
              "      <td>24</td>\n",
              "      <td>2009-12-01 07:45:00</td>\n",
              "      <td>2.0625</td>\n",
              "      <td>13085</td>\n",
              "      <td>United Kingdom</td>\n",
              "      <td>49.50</td>\n",
              "    </tr>\n",
              "  </tbody>\n",
              "</table>\n",
              "</div>\n",
              "    <div class=\"colab-df-buttons\">\n",
              "\n",
              "  <div class=\"colab-df-container\">\n",
              "    <button class=\"colab-df-convert\" onclick=\"convertToInteractive('df-a2c4fb55-c174-4f65-a5a9-151c68f7be6d')\"\n",
              "            title=\"Convert this dataframe to an interactive table.\"\n",
              "            style=\"display:none;\">\n",
              "\n",
              "  <svg xmlns=\"http://www.w3.org/2000/svg\" height=\"24px\" viewBox=\"0 -960 960 960\">\n",
              "    <path d=\"M120-120v-720h720v720H120Zm60-500h600v-160H180v160Zm220 220h160v-160H400v160Zm0 220h160v-160H400v160ZM180-400h160v-160H180v160Zm440 0h160v-160H620v160ZM180-180h160v-160H180v160Zm440 0h160v-160H620v160Z\"/>\n",
              "  </svg>\n",
              "    </button>\n",
              "\n",
              "  <style>\n",
              "    .colab-df-container {\n",
              "      display:flex;\n",
              "      gap: 12px;\n",
              "    }\n",
              "\n",
              "    .colab-df-convert {\n",
              "      background-color: #E8F0FE;\n",
              "      border: none;\n",
              "      border-radius: 50%;\n",
              "      cursor: pointer;\n",
              "      display: none;\n",
              "      fill: #1967D2;\n",
              "      height: 32px;\n",
              "      padding: 0 0 0 0;\n",
              "      width: 32px;\n",
              "    }\n",
              "\n",
              "    .colab-df-convert:hover {\n",
              "      background-color: #E2EBFA;\n",
              "      box-shadow: 0px 1px 2px rgba(60, 64, 67, 0.3), 0px 1px 3px 1px rgba(60, 64, 67, 0.15);\n",
              "      fill: #174EA6;\n",
              "    }\n",
              "\n",
              "    .colab-df-buttons div {\n",
              "      margin-bottom: 4px;\n",
              "    }\n",
              "\n",
              "    [theme=dark] .colab-df-convert {\n",
              "      background-color: #3B4455;\n",
              "      fill: #D2E3FC;\n",
              "    }\n",
              "\n",
              "    [theme=dark] .colab-df-convert:hover {\n",
              "      background-color: #434B5C;\n",
              "      box-shadow: 0px 1px 3px 1px rgba(0, 0, 0, 0.15);\n",
              "      filter: drop-shadow(0px 1px 2px rgba(0, 0, 0, 0.3));\n",
              "      fill: #FFFFFF;\n",
              "    }\n",
              "  </style>\n",
              "\n",
              "    <script>\n",
              "      const buttonEl =\n",
              "        document.querySelector('#df-a2c4fb55-c174-4f65-a5a9-151c68f7be6d button.colab-df-convert');\n",
              "      buttonEl.style.display =\n",
              "        google.colab.kernel.accessAllowed ? 'block' : 'none';\n",
              "\n",
              "      async function convertToInteractive(key) {\n",
              "        const element = document.querySelector('#df-a2c4fb55-c174-4f65-a5a9-151c68f7be6d');\n",
              "        const dataTable =\n",
              "          await google.colab.kernel.invokeFunction('convertToInteractive',\n",
              "                                                    [key], {});\n",
              "        if (!dataTable) return;\n",
              "\n",
              "        const docLinkHtml = 'Like what you see? Visit the ' +\n",
              "          '<a target=\"_blank\" href=https://colab.research.google.com/notebooks/data_table.ipynb>data table notebook</a>'\n",
              "          + ' to learn more about interactive tables.';\n",
              "        element.innerHTML = '';\n",
              "        dataTable['output_type'] = 'display_data';\n",
              "        await google.colab.output.renderOutput(dataTable, element);\n",
              "        const docLink = document.createElement('div');\n",
              "        docLink.innerHTML = docLinkHtml;\n",
              "        element.appendChild(docLink);\n",
              "      }\n",
              "    </script>\n",
              "  </div>\n",
              "\n",
              "\n",
              "<div id=\"df-50099b45-e8bf-43b5-9398-4e33a1934b50\">\n",
              "  <button class=\"colab-df-quickchart\" onclick=\"quickchart('df-50099b45-e8bf-43b5-9398-4e33a1934b50')\"\n",
              "            title=\"Suggest charts\"\n",
              "            style=\"display:none;\">\n",
              "\n",
              "<svg xmlns=\"http://www.w3.org/2000/svg\" height=\"24px\"viewBox=\"0 0 24 24\"\n",
              "     width=\"24px\">\n",
              "    <g>\n",
              "        <path d=\"M19 3H5c-1.1 0-2 .9-2 2v14c0 1.1.9 2 2 2h14c1.1 0 2-.9 2-2V5c0-1.1-.9-2-2-2zM9 17H7v-7h2v7zm4 0h-2V7h2v10zm4 0h-2v-4h2v4z\"/>\n",
              "    </g>\n",
              "</svg>\n",
              "  </button>\n",
              "\n",
              "<style>\n",
              "  .colab-df-quickchart {\n",
              "      --bg-color: #E8F0FE;\n",
              "      --fill-color: #1967D2;\n",
              "      --hover-bg-color: #E2EBFA;\n",
              "      --hover-fill-color: #174EA6;\n",
              "      --disabled-fill-color: #AAA;\n",
              "      --disabled-bg-color: #DDD;\n",
              "  }\n",
              "\n",
              "  [theme=dark] .colab-df-quickchart {\n",
              "      --bg-color: #3B4455;\n",
              "      --fill-color: #D2E3FC;\n",
              "      --hover-bg-color: #434B5C;\n",
              "      --hover-fill-color: #FFFFFF;\n",
              "      --disabled-bg-color: #3B4455;\n",
              "      --disabled-fill-color: #666;\n",
              "  }\n",
              "\n",
              "  .colab-df-quickchart {\n",
              "    background-color: var(--bg-color);\n",
              "    border: none;\n",
              "    border-radius: 50%;\n",
              "    cursor: pointer;\n",
              "    display: none;\n",
              "    fill: var(--fill-color);\n",
              "    height: 32px;\n",
              "    padding: 0;\n",
              "    width: 32px;\n",
              "  }\n",
              "\n",
              "  .colab-df-quickchart:hover {\n",
              "    background-color: var(--hover-bg-color);\n",
              "    box-shadow: 0 1px 2px rgba(60, 64, 67, 0.3), 0 1px 3px 1px rgba(60, 64, 67, 0.15);\n",
              "    fill: var(--button-hover-fill-color);\n",
              "  }\n",
              "\n",
              "  .colab-df-quickchart-complete:disabled,\n",
              "  .colab-df-quickchart-complete:disabled:hover {\n",
              "    background-color: var(--disabled-bg-color);\n",
              "    fill: var(--disabled-fill-color);\n",
              "    box-shadow: none;\n",
              "  }\n",
              "\n",
              "  .colab-df-spinner {\n",
              "    border: 2px solid var(--fill-color);\n",
              "    border-color: transparent;\n",
              "    border-bottom-color: var(--fill-color);\n",
              "    animation:\n",
              "      spin 1s steps(1) infinite;\n",
              "  }\n",
              "\n",
              "  @keyframes spin {\n",
              "    0% {\n",
              "      border-color: transparent;\n",
              "      border-bottom-color: var(--fill-color);\n",
              "      border-left-color: var(--fill-color);\n",
              "    }\n",
              "    20% {\n",
              "      border-color: transparent;\n",
              "      border-left-color: var(--fill-color);\n",
              "      border-top-color: var(--fill-color);\n",
              "    }\n",
              "    30% {\n",
              "      border-color: transparent;\n",
              "      border-left-color: var(--fill-color);\n",
              "      border-top-color: var(--fill-color);\n",
              "      border-right-color: var(--fill-color);\n",
              "    }\n",
              "    40% {\n",
              "      border-color: transparent;\n",
              "      border-right-color: var(--fill-color);\n",
              "      border-top-color: var(--fill-color);\n",
              "    }\n",
              "    60% {\n",
              "      border-color: transparent;\n",
              "      border-right-color: var(--fill-color);\n",
              "    }\n",
              "    80% {\n",
              "      border-color: transparent;\n",
              "      border-right-color: var(--fill-color);\n",
              "      border-bottom-color: var(--fill-color);\n",
              "    }\n",
              "    90% {\n",
              "      border-color: transparent;\n",
              "      border-bottom-color: var(--fill-color);\n",
              "    }\n",
              "  }\n",
              "</style>\n",
              "\n",
              "  <script>\n",
              "    async function quickchart(key) {\n",
              "      const quickchartButtonEl =\n",
              "        document.querySelector('#' + key + ' button');\n",
              "      quickchartButtonEl.disabled = true;  // To prevent multiple clicks.\n",
              "      quickchartButtonEl.classList.add('colab-df-spinner');\n",
              "      try {\n",
              "        const charts = await google.colab.kernel.invokeFunction(\n",
              "            'suggestCharts', [key], {});\n",
              "      } catch (error) {\n",
              "        console.error('Error during call to suggestCharts:', error);\n",
              "      }\n",
              "      quickchartButtonEl.classList.remove('colab-df-spinner');\n",
              "      quickchartButtonEl.classList.add('colab-df-quickchart-complete');\n",
              "    }\n",
              "    (() => {\n",
              "      let quickchartButtonEl =\n",
              "        document.querySelector('#df-50099b45-e8bf-43b5-9398-4e33a1934b50 button');\n",
              "      quickchartButtonEl.style.display =\n",
              "        google.colab.kernel.accessAllowed ? 'block' : 'none';\n",
              "    })();\n",
              "  </script>\n",
              "</div>\n",
              "\n",
              "    </div>\n",
              "  </div>\n"
            ],
            "application/vnd.google.colaboratory.intrinsic+json": {
              "type": "dataframe",
              "variable_name": "data"
            }
          },
          "metadata": {},
          "execution_count": 56
        }
      ],
      "source": [
        "data = pd.read_csv(\"/content/drive/MyDrive/Naver Boost Class/2주차/10차시/input/train.csv\", parse_dates=[\"order_date\"])\n",
        "print(data.shape)  # data shape 확인\n",
        "data.head()"
      ]
    },
    {
      "cell_type": "code",
      "source": [
        "from google.colab import drive\n",
        "drive.mount('/content/drive')"
      ],
      "metadata": {
        "colab": {
          "base_uri": "https://localhost:8080/"
        },
        "id": "9jXT4YmV3M2O",
        "outputId": "be9b5662-3d09-4c68-b5a1-4723d6d0c917"
      },
      "id": "9jXT4YmV3M2O",
      "execution_count": 8,
      "outputs": [
        {
          "output_type": "stream",
          "name": "stdout",
          "text": [
            "Mounted at /content/drive\n"
          ]
        }
      ]
    },
    {
      "cell_type": "markdown",
      "id": "developing-prague",
      "metadata": {
        "id": "developing-prague"
      },
      "source": [
        "## Pandas info() 함수로 데이터 타입 및 null 체크"
      ]
    },
    {
      "cell_type": "code",
      "execution_count": 10,
      "id": "increasing-probe",
      "metadata": {
        "id": "increasing-probe",
        "outputId": "4654cc16-bcf2-4d8f-b33b-f8026a189683",
        "colab": {
          "base_uri": "https://localhost:8080/"
        }
      },
      "outputs": [
        {
          "output_type": "stream",
          "name": "stdout",
          "text": [
            "<class 'pandas.core.frame.DataFrame'>\n",
            "RangeIndex: 780502 entries, 0 to 780501\n",
            "Data columns (total 9 columns):\n",
            " #   Column       Non-Null Count   Dtype         \n",
            "---  ------       --------------   -----         \n",
            " 0   order_id     780502 non-null  object        \n",
            " 1   product_id   780502 non-null  object        \n",
            " 2   description  780502 non-null  object        \n",
            " 3   quantity     780502 non-null  int64         \n",
            " 4   order_date   780502 non-null  datetime64[ns]\n",
            " 5   price        780502 non-null  float64       \n",
            " 6   customer_id  780502 non-null  int64         \n",
            " 7   country      780502 non-null  object        \n",
            " 8   total        780502 non-null  float64       \n",
            "dtypes: datetime64[ns](1), float64(2), int64(2), object(4)\n",
            "memory usage: 53.6+ MB\n"
          ]
        }
      ],
      "source": [
        "data.info()"
      ]
    },
    {
      "cell_type": "markdown",
      "id": "adverse-material",
      "metadata": {
        "id": "adverse-material"
      },
      "source": [
        "## Pandas isna(), sum() 함수로 null 데이터 개수 체크"
      ]
    },
    {
      "cell_type": "code",
      "execution_count": 11,
      "id": "green-volume",
      "metadata": {
        "id": "green-volume",
        "outputId": "9de7bff2-bc58-4981-f8d9-86a8f6ee27d7",
        "colab": {
          "base_uri": "https://localhost:8080/"
        }
      },
      "outputs": [
        {
          "output_type": "execute_result",
          "data": {
            "text/plain": [
              "order_id       0\n",
              "product_id     0\n",
              "description    0\n",
              "quantity       0\n",
              "order_date     0\n",
              "price          0\n",
              "customer_id    0\n",
              "country        0\n",
              "total          0\n",
              "dtype: int64"
            ]
          },
          "metadata": {},
          "execution_count": 11
        }
      ],
      "source": [
        "data.isna().sum()"
      ]
    },
    {
      "cell_type": "markdown",
      "id": "sunset-pickup",
      "metadata": {
        "id": "sunset-pickup"
      },
      "source": [
        "## Pandas describe() 함수에 include='all' 인자 설정으로 수치형, 범주형 데이터 기본 통계량 확인"
      ]
    },
    {
      "cell_type": "code",
      "execution_count": 12,
      "id": "remarkable-analysis",
      "metadata": {
        "id": "remarkable-analysis",
        "outputId": "c640b0a2-f46f-4a20-dcd7-d235fd5ecceb",
        "colab": {
          "base_uri": "https://localhost:8080/",
          "height": 501
        }
      },
      "outputs": [
        {
          "output_type": "execute_result",
          "data": {
            "text/plain": [
              "       order_id product_id                         description       quantity  \\\n",
              "count    780502     780502                              780502  780502.000000   \n",
              "unique    43955       4645                                5297            NaN   \n",
              "top      576339     85123A  WHITE HANGING HEART T-LIGHT HOLDER            NaN   \n",
              "freq        542       5096                                5096            NaN   \n",
              "mean        NaN        NaN                                 NaN      12.623307   \n",
              "min         NaN        NaN                                 NaN  -74215.000000   \n",
              "25%         NaN        NaN                                 NaN       2.000000   \n",
              "50%         NaN        NaN                                 NaN       5.000000   \n",
              "75%         NaN        NaN                                 NaN      12.000000   \n",
              "max         NaN        NaN                                 NaN   74215.000000   \n",
              "std         NaN        NaN                                 NaN     143.906302   \n",
              "\n",
              "                           order_date          price    customer_id  \\\n",
              "count                          780502  780502.000000  780502.000000   \n",
              "unique                            NaN            NaN            NaN   \n",
              "top                               NaN            NaN            NaN   \n",
              "freq                              NaN            NaN            NaN   \n",
              "mean    2010-12-26 01:08:30.093324288       6.140931   15313.393466   \n",
              "min               2009-12-01 07:45:00       0.000000   12346.000000   \n",
              "25%               2010-06-29 11:10:00       2.062500   13963.000000   \n",
              "50%               2010-11-28 13:40:00       3.217500   15239.000000   \n",
              "75%               2011-07-18 11:55:00       6.187500   16788.000000   \n",
              "max               2011-11-30 17:42:00   64300.500000   18287.000000   \n",
              "std                               NaN     119.042266    1695.765797   \n",
              "\n",
              "               country          total  \n",
              "count           780502  780502.000000  \n",
              "unique              41            NaN  \n",
              "top     United Kingdom            NaN  \n",
              "freq            700317            NaN  \n",
              "mean               NaN      33.715373  \n",
              "min                NaN -127352.940000  \n",
              "25%                NaN       7.260000  \n",
              "50%                NaN      19.470000  \n",
              "75%                NaN      32.175000  \n",
              "max                NaN  127352.940000  \n",
              "std                NaN     274.207403  "
            ],
            "text/html": [
              "\n",
              "  <div id=\"df-dc4cc1e5-c1d2-47cf-8647-b225041b033c\" class=\"colab-df-container\">\n",
              "    <div>\n",
              "<style scoped>\n",
              "    .dataframe tbody tr th:only-of-type {\n",
              "        vertical-align: middle;\n",
              "    }\n",
              "\n",
              "    .dataframe tbody tr th {\n",
              "        vertical-align: top;\n",
              "    }\n",
              "\n",
              "    .dataframe thead th {\n",
              "        text-align: right;\n",
              "    }\n",
              "</style>\n",
              "<table border=\"1\" class=\"dataframe\">\n",
              "  <thead>\n",
              "    <tr style=\"text-align: right;\">\n",
              "      <th></th>\n",
              "      <th>order_id</th>\n",
              "      <th>product_id</th>\n",
              "      <th>description</th>\n",
              "      <th>quantity</th>\n",
              "      <th>order_date</th>\n",
              "      <th>price</th>\n",
              "      <th>customer_id</th>\n",
              "      <th>country</th>\n",
              "      <th>total</th>\n",
              "    </tr>\n",
              "  </thead>\n",
              "  <tbody>\n",
              "    <tr>\n",
              "      <th>count</th>\n",
              "      <td>780502</td>\n",
              "      <td>780502</td>\n",
              "      <td>780502</td>\n",
              "      <td>780502.000000</td>\n",
              "      <td>780502</td>\n",
              "      <td>780502.000000</td>\n",
              "      <td>780502.000000</td>\n",
              "      <td>780502</td>\n",
              "      <td>780502.000000</td>\n",
              "    </tr>\n",
              "    <tr>\n",
              "      <th>unique</th>\n",
              "      <td>43955</td>\n",
              "      <td>4645</td>\n",
              "      <td>5297</td>\n",
              "      <td>NaN</td>\n",
              "      <td>NaN</td>\n",
              "      <td>NaN</td>\n",
              "      <td>NaN</td>\n",
              "      <td>41</td>\n",
              "      <td>NaN</td>\n",
              "    </tr>\n",
              "    <tr>\n",
              "      <th>top</th>\n",
              "      <td>576339</td>\n",
              "      <td>85123A</td>\n",
              "      <td>WHITE HANGING HEART T-LIGHT HOLDER</td>\n",
              "      <td>NaN</td>\n",
              "      <td>NaN</td>\n",
              "      <td>NaN</td>\n",
              "      <td>NaN</td>\n",
              "      <td>United Kingdom</td>\n",
              "      <td>NaN</td>\n",
              "    </tr>\n",
              "    <tr>\n",
              "      <th>freq</th>\n",
              "      <td>542</td>\n",
              "      <td>5096</td>\n",
              "      <td>5096</td>\n",
              "      <td>NaN</td>\n",
              "      <td>NaN</td>\n",
              "      <td>NaN</td>\n",
              "      <td>NaN</td>\n",
              "      <td>700317</td>\n",
              "      <td>NaN</td>\n",
              "    </tr>\n",
              "    <tr>\n",
              "      <th>mean</th>\n",
              "      <td>NaN</td>\n",
              "      <td>NaN</td>\n",
              "      <td>NaN</td>\n",
              "      <td>12.623307</td>\n",
              "      <td>2010-12-26 01:08:30.093324288</td>\n",
              "      <td>6.140931</td>\n",
              "      <td>15313.393466</td>\n",
              "      <td>NaN</td>\n",
              "      <td>33.715373</td>\n",
              "    </tr>\n",
              "    <tr>\n",
              "      <th>min</th>\n",
              "      <td>NaN</td>\n",
              "      <td>NaN</td>\n",
              "      <td>NaN</td>\n",
              "      <td>-74215.000000</td>\n",
              "      <td>2009-12-01 07:45:00</td>\n",
              "      <td>0.000000</td>\n",
              "      <td>12346.000000</td>\n",
              "      <td>NaN</td>\n",
              "      <td>-127352.940000</td>\n",
              "    </tr>\n",
              "    <tr>\n",
              "      <th>25%</th>\n",
              "      <td>NaN</td>\n",
              "      <td>NaN</td>\n",
              "      <td>NaN</td>\n",
              "      <td>2.000000</td>\n",
              "      <td>2010-06-29 11:10:00</td>\n",
              "      <td>2.062500</td>\n",
              "      <td>13963.000000</td>\n",
              "      <td>NaN</td>\n",
              "      <td>7.260000</td>\n",
              "    </tr>\n",
              "    <tr>\n",
              "      <th>50%</th>\n",
              "      <td>NaN</td>\n",
              "      <td>NaN</td>\n",
              "      <td>NaN</td>\n",
              "      <td>5.000000</td>\n",
              "      <td>2010-11-28 13:40:00</td>\n",
              "      <td>3.217500</td>\n",
              "      <td>15239.000000</td>\n",
              "      <td>NaN</td>\n",
              "      <td>19.470000</td>\n",
              "    </tr>\n",
              "    <tr>\n",
              "      <th>75%</th>\n",
              "      <td>NaN</td>\n",
              "      <td>NaN</td>\n",
              "      <td>NaN</td>\n",
              "      <td>12.000000</td>\n",
              "      <td>2011-07-18 11:55:00</td>\n",
              "      <td>6.187500</td>\n",
              "      <td>16788.000000</td>\n",
              "      <td>NaN</td>\n",
              "      <td>32.175000</td>\n",
              "    </tr>\n",
              "    <tr>\n",
              "      <th>max</th>\n",
              "      <td>NaN</td>\n",
              "      <td>NaN</td>\n",
              "      <td>NaN</td>\n",
              "      <td>74215.000000</td>\n",
              "      <td>2011-11-30 17:42:00</td>\n",
              "      <td>64300.500000</td>\n",
              "      <td>18287.000000</td>\n",
              "      <td>NaN</td>\n",
              "      <td>127352.940000</td>\n",
              "    </tr>\n",
              "    <tr>\n",
              "      <th>std</th>\n",
              "      <td>NaN</td>\n",
              "      <td>NaN</td>\n",
              "      <td>NaN</td>\n",
              "      <td>143.906302</td>\n",
              "      <td>NaN</td>\n",
              "      <td>119.042266</td>\n",
              "      <td>1695.765797</td>\n",
              "      <td>NaN</td>\n",
              "      <td>274.207403</td>\n",
              "    </tr>\n",
              "  </tbody>\n",
              "</table>\n",
              "</div>\n",
              "    <div class=\"colab-df-buttons\">\n",
              "\n",
              "  <div class=\"colab-df-container\">\n",
              "    <button class=\"colab-df-convert\" onclick=\"convertToInteractive('df-dc4cc1e5-c1d2-47cf-8647-b225041b033c')\"\n",
              "            title=\"Convert this dataframe to an interactive table.\"\n",
              "            style=\"display:none;\">\n",
              "\n",
              "  <svg xmlns=\"http://www.w3.org/2000/svg\" height=\"24px\" viewBox=\"0 -960 960 960\">\n",
              "    <path d=\"M120-120v-720h720v720H120Zm60-500h600v-160H180v160Zm220 220h160v-160H400v160Zm0 220h160v-160H400v160ZM180-400h160v-160H180v160Zm440 0h160v-160H620v160ZM180-180h160v-160H180v160Zm440 0h160v-160H620v160Z\"/>\n",
              "  </svg>\n",
              "    </button>\n",
              "\n",
              "  <style>\n",
              "    .colab-df-container {\n",
              "      display:flex;\n",
              "      gap: 12px;\n",
              "    }\n",
              "\n",
              "    .colab-df-convert {\n",
              "      background-color: #E8F0FE;\n",
              "      border: none;\n",
              "      border-radius: 50%;\n",
              "      cursor: pointer;\n",
              "      display: none;\n",
              "      fill: #1967D2;\n",
              "      height: 32px;\n",
              "      padding: 0 0 0 0;\n",
              "      width: 32px;\n",
              "    }\n",
              "\n",
              "    .colab-df-convert:hover {\n",
              "      background-color: #E2EBFA;\n",
              "      box-shadow: 0px 1px 2px rgba(60, 64, 67, 0.3), 0px 1px 3px 1px rgba(60, 64, 67, 0.15);\n",
              "      fill: #174EA6;\n",
              "    }\n",
              "\n",
              "    .colab-df-buttons div {\n",
              "      margin-bottom: 4px;\n",
              "    }\n",
              "\n",
              "    [theme=dark] .colab-df-convert {\n",
              "      background-color: #3B4455;\n",
              "      fill: #D2E3FC;\n",
              "    }\n",
              "\n",
              "    [theme=dark] .colab-df-convert:hover {\n",
              "      background-color: #434B5C;\n",
              "      box-shadow: 0px 1px 3px 1px rgba(0, 0, 0, 0.15);\n",
              "      filter: drop-shadow(0px 1px 2px rgba(0, 0, 0, 0.3));\n",
              "      fill: #FFFFFF;\n",
              "    }\n",
              "  </style>\n",
              "\n",
              "    <script>\n",
              "      const buttonEl =\n",
              "        document.querySelector('#df-dc4cc1e5-c1d2-47cf-8647-b225041b033c button.colab-df-convert');\n",
              "      buttonEl.style.display =\n",
              "        google.colab.kernel.accessAllowed ? 'block' : 'none';\n",
              "\n",
              "      async function convertToInteractive(key) {\n",
              "        const element = document.querySelector('#df-dc4cc1e5-c1d2-47cf-8647-b225041b033c');\n",
              "        const dataTable =\n",
              "          await google.colab.kernel.invokeFunction('convertToInteractive',\n",
              "                                                    [key], {});\n",
              "        if (!dataTable) return;\n",
              "\n",
              "        const docLinkHtml = 'Like what you see? Visit the ' +\n",
              "          '<a target=\"_blank\" href=https://colab.research.google.com/notebooks/data_table.ipynb>data table notebook</a>'\n",
              "          + ' to learn more about interactive tables.';\n",
              "        element.innerHTML = '';\n",
              "        dataTable['output_type'] = 'display_data';\n",
              "        await google.colab.output.renderOutput(dataTable, element);\n",
              "        const docLink = document.createElement('div');\n",
              "        docLink.innerHTML = docLinkHtml;\n",
              "        element.appendChild(docLink);\n",
              "      }\n",
              "    </script>\n",
              "  </div>\n",
              "\n",
              "\n",
              "<div id=\"df-85f8cb5c-136f-4578-9f1b-501ebfc08700\">\n",
              "  <button class=\"colab-df-quickchart\" onclick=\"quickchart('df-85f8cb5c-136f-4578-9f1b-501ebfc08700')\"\n",
              "            title=\"Suggest charts\"\n",
              "            style=\"display:none;\">\n",
              "\n",
              "<svg xmlns=\"http://www.w3.org/2000/svg\" height=\"24px\"viewBox=\"0 0 24 24\"\n",
              "     width=\"24px\">\n",
              "    <g>\n",
              "        <path d=\"M19 3H5c-1.1 0-2 .9-2 2v14c0 1.1.9 2 2 2h14c1.1 0 2-.9 2-2V5c0-1.1-.9-2-2-2zM9 17H7v-7h2v7zm4 0h-2V7h2v10zm4 0h-2v-4h2v4z\"/>\n",
              "    </g>\n",
              "</svg>\n",
              "  </button>\n",
              "\n",
              "<style>\n",
              "  .colab-df-quickchart {\n",
              "      --bg-color: #E8F0FE;\n",
              "      --fill-color: #1967D2;\n",
              "      --hover-bg-color: #E2EBFA;\n",
              "      --hover-fill-color: #174EA6;\n",
              "      --disabled-fill-color: #AAA;\n",
              "      --disabled-bg-color: #DDD;\n",
              "  }\n",
              "\n",
              "  [theme=dark] .colab-df-quickchart {\n",
              "      --bg-color: #3B4455;\n",
              "      --fill-color: #D2E3FC;\n",
              "      --hover-bg-color: #434B5C;\n",
              "      --hover-fill-color: #FFFFFF;\n",
              "      --disabled-bg-color: #3B4455;\n",
              "      --disabled-fill-color: #666;\n",
              "  }\n",
              "\n",
              "  .colab-df-quickchart {\n",
              "    background-color: var(--bg-color);\n",
              "    border: none;\n",
              "    border-radius: 50%;\n",
              "    cursor: pointer;\n",
              "    display: none;\n",
              "    fill: var(--fill-color);\n",
              "    height: 32px;\n",
              "    padding: 0;\n",
              "    width: 32px;\n",
              "  }\n",
              "\n",
              "  .colab-df-quickchart:hover {\n",
              "    background-color: var(--hover-bg-color);\n",
              "    box-shadow: 0 1px 2px rgba(60, 64, 67, 0.3), 0 1px 3px 1px rgba(60, 64, 67, 0.15);\n",
              "    fill: var(--button-hover-fill-color);\n",
              "  }\n",
              "\n",
              "  .colab-df-quickchart-complete:disabled,\n",
              "  .colab-df-quickchart-complete:disabled:hover {\n",
              "    background-color: var(--disabled-bg-color);\n",
              "    fill: var(--disabled-fill-color);\n",
              "    box-shadow: none;\n",
              "  }\n",
              "\n",
              "  .colab-df-spinner {\n",
              "    border: 2px solid var(--fill-color);\n",
              "    border-color: transparent;\n",
              "    border-bottom-color: var(--fill-color);\n",
              "    animation:\n",
              "      spin 1s steps(1) infinite;\n",
              "  }\n",
              "\n",
              "  @keyframes spin {\n",
              "    0% {\n",
              "      border-color: transparent;\n",
              "      border-bottom-color: var(--fill-color);\n",
              "      border-left-color: var(--fill-color);\n",
              "    }\n",
              "    20% {\n",
              "      border-color: transparent;\n",
              "      border-left-color: var(--fill-color);\n",
              "      border-top-color: var(--fill-color);\n",
              "    }\n",
              "    30% {\n",
              "      border-color: transparent;\n",
              "      border-left-color: var(--fill-color);\n",
              "      border-top-color: var(--fill-color);\n",
              "      border-right-color: var(--fill-color);\n",
              "    }\n",
              "    40% {\n",
              "      border-color: transparent;\n",
              "      border-right-color: var(--fill-color);\n",
              "      border-top-color: var(--fill-color);\n",
              "    }\n",
              "    60% {\n",
              "      border-color: transparent;\n",
              "      border-right-color: var(--fill-color);\n",
              "    }\n",
              "    80% {\n",
              "      border-color: transparent;\n",
              "      border-right-color: var(--fill-color);\n",
              "      border-bottom-color: var(--fill-color);\n",
              "    }\n",
              "    90% {\n",
              "      border-color: transparent;\n",
              "      border-bottom-color: var(--fill-color);\n",
              "    }\n",
              "  }\n",
              "</style>\n",
              "\n",
              "  <script>\n",
              "    async function quickchart(key) {\n",
              "      const quickchartButtonEl =\n",
              "        document.querySelector('#' + key + ' button');\n",
              "      quickchartButtonEl.disabled = true;  // To prevent multiple clicks.\n",
              "      quickchartButtonEl.classList.add('colab-df-spinner');\n",
              "      try {\n",
              "        const charts = await google.colab.kernel.invokeFunction(\n",
              "            'suggestCharts', [key], {});\n",
              "      } catch (error) {\n",
              "        console.error('Error during call to suggestCharts:', error);\n",
              "      }\n",
              "      quickchartButtonEl.classList.remove('colab-df-spinner');\n",
              "      quickchartButtonEl.classList.add('colab-df-quickchart-complete');\n",
              "    }\n",
              "    (() => {\n",
              "      let quickchartButtonEl =\n",
              "        document.querySelector('#df-85f8cb5c-136f-4578-9f1b-501ebfc08700 button');\n",
              "      quickchartButtonEl.style.display =\n",
              "        google.colab.kernel.accessAllowed ? 'block' : 'none';\n",
              "    })();\n",
              "  </script>\n",
              "</div>\n",
              "\n",
              "    </div>\n",
              "  </div>\n"
            ],
            "application/vnd.google.colaboratory.intrinsic+json": {
              "type": "dataframe",
              "summary": "{\n  \"name\": \"data\",\n  \"rows\": 11,\n  \"fields\": [\n    {\n      \"column\": \"order_id\",\n      \"properties\": {\n        \"dtype\": \"category\",\n        \"num_unique_values\": 4,\n        \"samples\": [\n          43955,\n          \"542\",\n          \"780502\"\n        ],\n        \"semantic_type\": \"\",\n        \"description\": \"\"\n      }\n    },\n    {\n      \"column\": \"product_id\",\n      \"properties\": {\n        \"dtype\": \"category\",\n        \"num_unique_values\": 4,\n        \"samples\": [\n          4645,\n          \"5096\",\n          \"780502\"\n        ],\n        \"semantic_type\": \"\",\n        \"description\": \"\"\n      }\n    },\n    {\n      \"column\": \"description\",\n      \"properties\": {\n        \"dtype\": \"category\",\n        \"num_unique_values\": 4,\n        \"samples\": [\n          5297,\n          \"5096\",\n          \"780502\"\n        ],\n        \"semantic_type\": \"\",\n        \"description\": \"\"\n      }\n    },\n    {\n      \"column\": \"quantity\",\n      \"properties\": {\n        \"dtype\": \"number\",\n        \"std\": 278777.16391433915,\n        \"min\": -74215.0,\n        \"max\": 780502.0,\n        \"num_unique_values\": 8,\n        \"samples\": [\n          12.62330653861233,\n          12.0,\n          780502.0\n        ],\n        \"semantic_type\": \"\",\n        \"description\": \"\"\n      }\n    },\n    {\n      \"column\": \"order_date\",\n      \"properties\": {\n        \"dtype\": \"date\",\n        \"min\": \"1970-01-01 00:00:00.000780502\",\n        \"max\": \"2011-11-30 17:42:00\",\n        \"num_unique_values\": 7,\n        \"samples\": [\n          \"780502\",\n          \"2010-12-26 01:08:30.093324288\",\n          \"2011-07-18 11:55:00\"\n        ],\n        \"semantic_type\": \"\",\n        \"description\": \"\"\n      }\n    },\n    {\n      \"column\": \"price\",\n      \"properties\": {\n        \"dtype\": \"number\",\n        \"std\": 273620.61052234075,\n        \"min\": 0.0,\n        \"max\": 780502.0,\n        \"num_unique_values\": 8,\n        \"samples\": [\n          6.140931153539643,\n          6.1875,\n          780502.0\n        ],\n        \"semantic_type\": \"\",\n        \"description\": \"\"\n      }\n    },\n    {\n      \"column\": \"customer_id\",\n      \"properties\": {\n        \"dtype\": \"number\",\n        \"std\": 271267.6061738994,\n        \"min\": 1695.7657972523093,\n        \"max\": 780502.0,\n        \"num_unique_values\": 8,\n        \"samples\": [\n          15313.393466000087,\n          16788.0,\n          780502.0\n        ],\n        \"semantic_type\": \"\",\n        \"description\": \"\"\n      }\n    },\n    {\n      \"column\": \"country\",\n      \"properties\": {\n        \"dtype\": \"category\",\n        \"num_unique_values\": 4,\n        \"samples\": [\n          41,\n          \"700317\",\n          \"780502\"\n        ],\n        \"semantic_type\": \"\",\n        \"description\": \"\"\n      }\n    },\n    {\n      \"column\": \"total\",\n      \"properties\": {\n        \"dtype\": \"number\",\n        \"std\": 284203.5177918231,\n        \"min\": -127352.94,\n        \"max\": 780502.0,\n        \"num_unique_values\": 8,\n        \"samples\": [\n          33.71537275458615,\n          32.175,\n          780502.0\n        ],\n        \"semantic_type\": \"\",\n        \"description\": \"\"\n      }\n    }\n  ]\n}"
            }
          },
          "metadata": {},
          "execution_count": 12
        }
      ],
      "source": [
        "data.describe(include='all')"
      ]
    },
    {
      "cell_type": "markdown",
      "id": "romantic-miami",
      "metadata": {
        "id": "romantic-miami"
      },
      "source": [
        "## 2011년 11월 Label 데이터 생성"
      ]
    },
    {
      "cell_type": "code",
      "execution_count": 24,
      "id": "transparent-scholar",
      "metadata": {
        "id": "transparent-scholar"
      },
      "outputs": [],
      "source": [
        "label_2011_11 = generate_label(data, '2011-11')['label']"
      ]
    },
    {
      "cell_type": "markdown",
      "id": "exterior-characterization",
      "metadata": {
        "id": "exterior-characterization"
      },
      "source": [
        "## Label 데이터 분포 플롯"
      ]
    },
    {
      "cell_type": "code",
      "execution_count": 26,
      "id": "mature-fellowship",
      "metadata": {
        "id": "mature-fellowship",
        "outputId": "af4bb15f-bf88-4e27-8923-35fe868e078d",
        "colab": {
          "base_uri": "https://localhost:8080/",
          "height": 520
        }
      },
      "outputs": [
        {
          "output_type": "execute_result",
          "data": {
            "text/plain": [
              "label\n",
              "0    4534\n",
              "1    1188\n",
              "Name: count, dtype: int64"
            ]
          },
          "metadata": {},
          "execution_count": 26
        },
        {
          "output_type": "display_data",
          "data": {
            "text/plain": [
              "<Figure size 640x480 with 1 Axes>"
            ],
            "image/png": "[encoded data removed]"
          },
          "metadata": {}
        }
      ],
      "source": [
        "sns.countplot(x=label_2011_11,palette='pastel');\n",
        "label_2011_11.value_counts()"
      ]
    },
    {
      "cell_type": "markdown",
      "id": "composed-click",
      "metadata": {
        "id": "composed-click"
      },
      "source": [
        "## LightGBM Hyperparameter 선언\n",
        "- early stopping 기능을 사용하기 위해 n_estimators, early_stopping_rounds 설정"
      ]
    },
    {
      "cell_type": "code",
      "execution_count": 58,
      "id": "structural-section",
      "metadata": {
        "id": "structural-section"
      },
      "outputs": [],
      "source": [
        "model_params = {\n",
        "    'objective': 'binary', # 이진 분류\n",
        "    'boosting_type': 'gbdt',\n",
        "    'metric': 'auc', # 평가 지표 설정\n",
        "    'feature_fraction': 0.8, # 피처 샘플링 비율\n",
        "    'bagging_fraction': 0.8, # 데이터 샘플링 비율\n",
        "    'bagging_freq': 1,\n",
        "    'n_estimators': 10000, # 트리 개수\n",
        "    'early_stopping_rounds': 100,\n",
        "    'seed': SEED,\n",
        "    'verbose': -1,\n",
        "    'n_jobs': -1,\n",
        "    'verbose_eval': 200,\n",
        "}"
      ]
    },
    {
      "cell_type": "markdown",
      "id": "incident-minute",
      "metadata": {
        "id": "incident-minute"
      },
      "source": [
        "## 2011년 12월 LightGBM 베이스라인 모델 예측\n",
        "- Validation 성능 측정"
      ]
    },
    {
      "cell_type": "code",
      "execution_count": 62,
      "id": "tired-feeding",
      "metadata": {
        "id": "tired-feeding",
        "outputId": "ec871e12-1120-4468-80c1-dbe4fb0404ed",
        "colab": {
          "base_uri": "https://localhost:8080/"
        }
      },
      "outputs": [
        {
          "output_type": "stream",
          "name": "stdout",
          "text": [
            "categorical feature: []\n",
            "x_tr.shape (5722, 24) , x_te.shape (5914, 24)\n",
            "fold: 1, x_tr.shape: (5149, 21), x_val.shape: (573, 21)\n",
            "Fold 1 | AUC: 0.7679913375041647\n",
            "--------------------------------------------------------------------------------\n",
            "fold: 2, x_tr.shape: (5149, 21), x_val.shape: (573, 21)\n",
            "Fold 2 | AUC: 0.7980046644208344\n",
            "--------------------------------------------------------------------------------\n",
            "fold: 3, x_tr.shape: (5150, 21), x_val.shape: (572, 21)\n",
            "Fold 3 | AUC: 0.7869596057642052\n",
            "--------------------------------------------------------------------------------\n",
            "fold: 4, x_tr.shape: (5150, 21), x_val.shape: (572, 21)\n",
            "Fold 4 | AUC: 0.7508773239752108\n",
            "--------------------------------------------------------------------------------\n",
            "fold: 5, x_tr.shape: (5150, 21), x_val.shape: (572, 21)\n",
            "Fold 5 | AUC: 0.7842951750236518\n",
            "--------------------------------------------------------------------------------\n",
            "fold: 6, x_tr.shape: (5150, 21), x_val.shape: (572, 21)\n",
            "Fold 6 | AUC: 0.7902127738512624\n",
            "--------------------------------------------------------------------------------\n",
            "fold: 7, x_tr.shape: (5150, 21), x_val.shape: (572, 21)\n",
            "Fold 7 | AUC: 0.7936446101619455\n",
            "--------------------------------------------------------------------------------\n",
            "fold: 8, x_tr.shape: (5150, 21), x_val.shape: (572, 21)\n",
            "Fold 8 | AUC: 0.769621755987163\n",
            "--------------------------------------------------------------------------------\n",
            "fold: 9, x_tr.shape: (5150, 21), x_val.shape: (572, 21)\n",
            "Fold 9 | AUC: 0.7909918934461202\n",
            "--------------------------------------------------------------------------------\n",
            "fold: 10, x_tr.shape: (5150, 21), x_val.shape: (572, 21)\n",
            "Fold 10 | AUC: 0.7681562691301687\n",
            "--------------------------------------------------------------------------------\n",
            "\n",
            "Mean AUC = 0.7800755409264727\n",
            "OOF AUC = 0.7678790366538492\n"
          ]
        }
      ],
      "source": [
        "train, test, y, features = feature_engineering1(data, '2011-12')\n",
        "y_oof, test_preds, fi = make_lgb_oof_prediction(train, y, test, features, model_params=model_params)"
      ]
    },
    {
      "cell_type": "code",
      "execution_count": 63,
      "id": "effective-physiology",
      "metadata": {
        "id": "effective-physiology",
        "outputId": "cb061760-5464-469b-c186-212f82f40916",
        "colab": {
          "base_uri": "https://localhost:8080/"
        }
      },
      "outputs": [
        {
          "output_type": "stream",
          "name": "stdout",
          "text": [
            "Precision: 0.65865\n",
            "Recall: 0.23064\n",
            "F1 Score: 0.34165\n",
            "ROC AUC Score: 0.76788\n"
          ]
        }
      ],
      "source": [
        "print_score(label_2011_11, y_oof)"
      ]
    },
    {
      "cell_type": "markdown",
      "id": "falling-smile",
      "metadata": {
        "id": "falling-smile"
      },
      "source": [
        "## 2011년 12월 LightGBM 베이스라인 모델 예측 데이터 분포"
      ]
    },
    {
      "cell_type": "code",
      "execution_count": 64,
      "id": "inclusive-finding",
      "metadata": {
        "id": "inclusive-finding",
        "outputId": "b6407841-ad7b-4958-decf-9580fafe72bb",
        "colab": {
          "base_uri": "https://localhost:8080/",
          "height": 430
        }
      },
      "outputs": [
        {
          "output_type": "display_data",
          "data": {
            "text/plain": [
              "<Figure size 640x480 with 1 Axes>"
            ],
            "image/png": "[encoded data removed]"
          },
          "metadata": {}
        }
      ],
      "source": [
        "sns.distplot(test_preds)\n",
        "plt.show()"
      ]
    },
    {
      "cell_type": "markdown",
      "id": "handled-frederick",
      "metadata": {
        "id": "handled-frederick"
      },
      "source": [
        "## LightGBM 피처 중요도 플롯"
      ]
    },
    {
      "cell_type": "code",
      "execution_count": 65,
      "id": "forbidden-development",
      "metadata": {
        "id": "forbidden-development",
        "outputId": "02b153a0-eead-4f11-ce77-bae64e8a0cac",
        "colab": {
          "base_uri": "https://localhost:8080/",
          "height": 644
        }
      },
      "outputs": [
        {
          "output_type": "display_data",
          "data": {
            "text/plain": [
              "<Figure size 1200x800 with 1 Axes>"
            ],
            "image/png": "[encoded data removed]"
          },
          "metadata": {}
        }
      ],
      "source": [
        "fi = plot_feature_importances(fi)"
      ]
    },
    {
      "cell_type": "markdown",
      "id": "cooperative-wrapping",
      "metadata": {
        "id": "cooperative-wrapping"
      },
      "source": [
        "## Optuna Objective Function 정의"
      ]
    },
    {
      "cell_type": "code",
      "execution_count": 66,
      "id": "tight-federation",
      "metadata": {
        "id": "tight-federation"
      },
      "outputs": [],
      "source": [
        "'''\n",
        "    하이퍼파라미터 탐색 범위를 정의하고 튜닝 및 검증을 진행하는 함수\n",
        "'''\n",
        "\n",
        "def objective(trial, label=label_2011_11):\n",
        "    lgb_params = {\n",
        "        'objective': 'binary', # 이진 분류\n",
        "        'boosting_type': 'gbdt',\n",
        "        'num_leaves': trial.suggest_int('num_leaves', 2, 256), # num_leaves 값을 2-256까지 정수값 중에 사용\n",
        "        'max_bin': trial.suggest_int('max_bin', 128, 256), # max_bin 값을 128-256까지 정수값 중에 사용\n",
        "        # min_data_in_leaf 값을 10-40까지 정수값 중에 사용\n",
        "        'min_data_in_leaf': trial.suggest_int('min_data_in_leaf', 10, 40),\n",
        "        # 피처 샘플링 비율을 0.4-1.0까지 중에 uniform 분포로 사용\n",
        "        'feature_fraction': trial.suggest_uniform('feature_fraction', 0.4, 1.0),\n",
        "        # 데이터 샘플링 비율을 0.4-1.0까지 중에 uniform 분포로 사용\n",
        "        'bagging_fraction': trial.suggest_uniform('bagging_fraction', 0.4, 1.0),\n",
        "        # 데이터 샘플링 횟수를 1-7까지 정수값 중에 사용\n",
        "        'bagging_freq': trial.suggest_int('bagging_freq', 1, 7),\n",
        "        'n_estimators': 10000, # 트리 개수\n",
        "        'early_stopping_rounds': 100,\n",
        "        # L1 값을 1e-8-10.0까지 로그 uniform 분포로 사용\n",
        "        'lambda_l1': trial.suggest_loguniform('lambda_l1', 1e-8, 10.0),\n",
        "        # L2 값을 1e-8-10.0까지 로그 uniform 분포로 사용\n",
        "        'lambda_l2': trial.suggest_loguniform('lambda_l2', 1e-8, 10.0),\n",
        "        'seed': SEED,\n",
        "        'verbose': -1,\n",
        "        'n_jobs': -1,\n",
        "    }\n",
        "\n",
        "    # oof prediction 함수 호출해서 out of fold validation 예측값을 얻어옴\n",
        "    y_oof, test_preds, fi = make_lgb_oof_prediction(train, y, test, features, model_params=lgb_params)\n",
        "\n",
        "    # Validation 스코어 계산\n",
        "    val_auc = roc_auc_score(label, y_oof)\n",
        "\n",
        "    return val_auc"
      ]
    },
    {
      "cell_type": "markdown",
      "id": "extraordinary-catch",
      "metadata": {
        "id": "extraordinary-catch"
      },
      "source": [
        "## Optuna study 생성, auc이기 때문에 최대화 하는 방향으로 하이퍼 파라미터 탐색"
      ]
    },
    {
      "cell_type": "code",
      "execution_count": 67,
      "id": "reflected-platinum",
      "metadata": {
        "id": "reflected-platinum",
        "outputId": "383a9325-8d71-42ee-beee-cdb98bf0b9eb",
        "colab": {
          "base_uri": "https://localhost:8080/"
        }
      },
      "outputs": [
        {
          "output_type": "stream",
          "name": "stderr",
          "text": [
            "[I 2024-05-02 15:31:57,895] A new study created in memory with name: no-name-c08a6c25-65ef-4308-989f-b02ab94ae0bd\n"
          ]
        },
        {
          "output_type": "stream",
          "name": "stdout",
          "text": [
            "fold: 1, x_tr.shape: (5149, 21), x_val.shape: (573, 21)\n",
            "Fold 1 | AUC: 0.7477140635990079\n",
            "--------------------------------------------------------------------------------\n",
            "fold: 2, x_tr.shape: (5149, 21), x_val.shape: (573, 21)\n",
            "Fold 2 | AUC: 0.789656831895754\n",
            "--------------------------------------------------------------------------------\n",
            "fold: 3, x_tr.shape: (5150, 21), x_val.shape: (572, 21)\n",
            "Fold 3 | AUC: 0.771373105353543\n",
            "--------------------------------------------------------------------------------\n",
            "fold: 4, x_tr.shape: (5150, 21), x_val.shape: (572, 21)\n",
            "Fold 4 | AUC: 0.7222242962741732\n",
            "--------------------------------------------------------------------------------\n",
            "fold: 5, x_tr.shape: (5150, 21), x_val.shape: (572, 21)\n",
            "Fold 5 | AUC: 0.7569517873374515\n",
            "--------------------------------------------------------------------------------\n",
            "fold: 6, x_tr.shape: (5150, 21), x_val.shape: (572, 21)\n",
            "Fold 6 | AUC: 0.7949802437531304\n",
            "--------------------------------------------------------------------------------\n",
            "fold: 7, x_tr.shape: (5150, 21), x_val.shape: (572, 21)\n",
            "Fold 7 | AUC: 0.7759103641456582\n",
            "--------------------------------------------------------------------------------\n",
            "fold: 8, x_tr.shape: (5150, 21), x_val.shape: (572, 21)\n",
            "Fold 8 | AUC: 0.7706049307140075\n",
            "--------------------------------------------------------------------------------\n",
            "fold: 9, x_tr.shape: (5150, 21), x_val.shape: (572, 21)\n",
            "Fold 9 | AUC: 0.7766152818743391\n",
            "--------------------------------------------------------------------------------\n",
            "fold: 10, x_tr.shape: (5150, 21), x_val.shape: (572, 21)\n",
            "Fold 10 | AUC: 0.7559686126106071\n",
            "--------------------------------------------------------------------------------\n"
          ]
        },
        {
          "output_type": "stream",
          "name": "stderr",
          "text": [
            "[I 2024-05-02 15:32:07,244] Trial 0 finished with value: 0.7660469197191738 and parameters: {'num_leaves': 93, 'max_bin': 165, 'min_data_in_leaf': 24, 'feature_fraction': 0.43527705667816896, 'bagging_fraction': 0.577870516630357, 'bagging_freq': 7, 'lambda_l1': 4.323227121706209e-08, 'lambda_l2': 0.10350606662986814}. Best is trial 0 with value: 0.7660469197191738.\n"
          ]
        },
        {
          "output_type": "stream",
          "name": "stdout",
          "text": [
            "\n",
            "Mean AUC = 0.766199951755767\n",
            "OOF AUC = 0.7660469197191738\n",
            "fold: 1, x_tr.shape: (5149, 21), x_val.shape: (573, 21)\n",
            "Fold 1 | AUC: 0.7570151408581054\n",
            "--------------------------------------------------------------------------------\n",
            "fold: 2, x_tr.shape: (5149, 21), x_val.shape: (573, 21)\n",
            "Fold 2 | AUC: 0.798430385370007\n",
            "--------------------------------------------------------------------------------\n",
            "fold: 3, x_tr.shape: (5150, 21), x_val.shape: (572, 21)\n",
            "Fold 3 | AUC: 0.7964515045172852\n",
            "--------------------------------------------------------------------------------\n",
            "fold: 4, x_tr.shape: (5150, 21), x_val.shape: (572, 21)\n",
            "Fold 4 | AUC: 0.7576625849324274\n",
            "--------------------------------------------------------------------------------\n",
            "fold: 5, x_tr.shape: (5150, 21), x_val.shape: (572, 21)\n",
            "Fold 5 | AUC: 0.7752796482831543\n",
            "--------------------------------------------------------------------------------\n",
            "fold: 6, x_tr.shape: (5150, 21), x_val.shape: (572, 21)\n",
            "Fold 6 | AUC: 0.7939599680931976\n",
            "--------------------------------------------------------------------------------\n",
            "fold: 7, x_tr.shape: (5150, 21), x_val.shape: (572, 21)\n",
            "Fold 7 | AUC: 0.7883577271968389\n",
            "--------------------------------------------------------------------------------\n",
            "fold: 8, x_tr.shape: (5150, 21), x_val.shape: (572, 21)\n",
            "Fold 8 | AUC: 0.7640380655573488\n",
            "--------------------------------------------------------------------------------\n",
            "fold: 9, x_tr.shape: (5150, 21), x_val.shape: (572, 21)\n",
            "Fold 9 | AUC: 0.7867252861409465\n",
            "--------------------------------------------------------------------------------\n",
            "fold: 10, x_tr.shape: (5150, 21), x_val.shape: (572, 21)\n"
          ]
        },
        {
          "output_type": "stream",
          "name": "stderr",
          "text": [
            "[I 2024-05-02 15:32:16,561] Trial 1 finished with value: 0.7784599598395363 and parameters: {'num_leaves': 28, 'max_bin': 176, 'min_data_in_leaf': 36, 'feature_fraction': 0.492876747535913, 'bagging_fraction': 0.9781231148156164, 'bagging_freq': 2, 'lambda_l1': 0.01605815887001025, 'lambda_l2': 6.454002264037791e-05}. Best is trial 1 with value: 0.7784599598395363.\n"
          ]
        },
        {
          "output_type": "stream",
          "name": "stdout",
          "text": [
            "Fold 10 | AUC: 0.7703081232492996\n",
            "--------------------------------------------------------------------------------\n",
            "\n",
            "Mean AUC = 0.7788228434198611\n",
            "OOF AUC = 0.7784599598395363\n",
            "fold: 1, x_tr.shape: (5149, 21), x_val.shape: (573, 21)\n",
            "Fold 1 | AUC: 0.7573298041683634\n",
            "--------------------------------------------------------------------------------\n",
            "fold: 2, x_tr.shape: (5149, 21), x_val.shape: (573, 21)\n",
            "Fold 2 | AUC: 0.7828452967089921\n",
            "--------------------------------------------------------------------------------\n",
            "fold: 3, x_tr.shape: (5150, 21), x_val.shape: (572, 21)\n",
            "Fold 3 | AUC: 0.7949581871126706\n",
            "--------------------------------------------------------------------------------\n",
            "fold: 4, x_tr.shape: (5150, 21), x_val.shape: (572, 21)\n",
            "Fold 4 | AUC: 0.7342641678488764\n",
            "--------------------------------------------------------------------------------\n",
            "fold: 5, x_tr.shape: (5150, 21), x_val.shape: (572, 21)\n",
            "Fold 5 | AUC: 0.7665609290073646\n",
            "--------------------------------------------------------------------------------\n",
            "fold: 6, x_tr.shape: (5150, 21), x_val.shape: (572, 21)\n",
            "Fold 6 | AUC: 0.7896006084553027\n",
            "--------------------------------------------------------------------------------\n",
            "fold: 7, x_tr.shape: (5150, 21), x_val.shape: (572, 21)\n",
            "Fold 7 | AUC: 0.7771346949375777\n",
            "--------------------------------------------------------------------------------\n",
            "fold: 8, x_tr.shape: (5150, 21), x_val.shape: (572, 21)\n",
            "Fold 8 | AUC: 0.7703823251154767\n",
            "--------------------------------------------------------------------------------\n",
            "fold: 9, x_tr.shape: (5150, 21), x_val.shape: (572, 21)\n",
            "Fold 9 | AUC: 0.7787207598271098\n",
            "--------------------------------------------------------------------------------\n",
            "fold: 10, x_tr.shape: (5150, 21), x_val.shape: (572, 21)\n"
          ]
        },
        {
          "output_type": "stream",
          "name": "stderr",
          "text": [
            "[I 2024-05-02 15:32:21,706] Trial 2 finished with value: 0.7706049801054212 and parameters: {'num_leaves': 35, 'max_bin': 255, 'min_data_in_leaf': 35, 'feature_fraction': 0.4920449885220203, 'bagging_fraction': 0.7294164054099775, 'bagging_freq': 2, 'lambda_l1': 0.0016428412665633202, 'lambda_l2': 0.27906872923066395}. Best is trial 1 with value: 0.7784599598395363.\n"
          ]
        },
        {
          "output_type": "stream",
          "name": "stdout",
          "text": [
            "Fold 10 | AUC: 0.761125642309904\n",
            "--------------------------------------------------------------------------------\n",
            "\n",
            "Mean AUC = 0.7712922415491638\n",
            "OOF AUC = 0.7706049801054212\n",
            "fold: 1, x_tr.shape: (5149, 21), x_val.shape: (573, 21)\n",
            "Fold 1 | AUC: 0.756015622107874\n",
            "--------------------------------------------------------------------------------\n",
            "fold: 2, x_tr.shape: (5149, 21), x_val.shape: (573, 21)\n",
            "Fold 2 | AUC: 0.7991892792359234\n",
            "--------------------------------------------------------------------------------\n",
            "fold: 3, x_tr.shape: (5150, 21), x_val.shape: (572, 21)\n",
            "Fold 3 | AUC: 0.7660344956320466\n",
            "--------------------------------------------------------------------------------\n",
            "fold: 4, x_tr.shape: (5150, 21), x_val.shape: (572, 21)\n",
            "Fold 4 | AUC: 0.7172310162024939\n",
            "--------------------------------------------------------------------------------\n",
            "fold: 5, x_tr.shape: (5150, 21), x_val.shape: (572, 21)\n",
            "Fold 5 | AUC: 0.765967314077949\n",
            "--------------------------------------------------------------------------------\n",
            "fold: 6, x_tr.shape: (5150, 21), x_val.shape: (572, 21)\n",
            "Fold 6 | AUC: 0.7906394345817797\n",
            "--------------------------------------------------------------------------------\n",
            "fold: 7, x_tr.shape: (5150, 21), x_val.shape: (572, 21)\n",
            "Fold 7 | AUC: 0.7755208043482293\n",
            "--------------------------------------------------------------------------------\n",
            "fold: 8, x_tr.shape: (5150, 21), x_val.shape: (572, 21)\n",
            "Fold 8 | AUC: 0.7504220231138813\n",
            "--------------------------------------------------------------------------------\n",
            "fold: 9, x_tr.shape: (5150, 21), x_val.shape: (572, 21)\n",
            "Fold 9 | AUC: 0.7741666202905003\n",
            "--------------------------------------------------------------------------------\n",
            "fold: 10, x_tr.shape: (5150, 21), x_val.shape: (572, 21)\n"
          ]
        },
        {
          "output_type": "stream",
          "name": "stderr",
          "text": [
            "[I 2024-05-02 15:32:31,150] Trial 3 finished with value: 0.7640867021932306 and parameters: {'num_leaves': 141, 'max_bin': 148, 'min_data_in_leaf': 21, 'feature_fraction': 0.5893475395714071, 'bagging_fraction': 0.7984096087159427, 'bagging_freq': 7, 'lambda_l1': 1.4351653858360474, 'lambda_l2': 0.0012044268934299097}. Best is trial 1 with value: 0.7784599598395363.\n"
          ]
        },
        {
          "output_type": "stream",
          "name": "stdout",
          "text": [
            "Fold 10 | AUC: 0.7511918674754671\n",
            "--------------------------------------------------------------------------------\n",
            "\n",
            "Mean AUC = 0.7646378477066145\n",
            "OOF AUC = 0.7640867021932306\n",
            "fold: 1, x_tr.shape: (5149, 21), x_val.shape: (573, 21)\n",
            "Fold 1 | AUC: 0.74232776811165\n",
            "--------------------------------------------------------------------------------\n",
            "fold: 2, x_tr.shape: (5149, 21), x_val.shape: (573, 21)\n",
            "Fold 2 | AUC: 0.7886202939325511\n",
            "--------------------------------------------------------------------------------\n",
            "fold: 3, x_tr.shape: (5150, 21), x_val.shape: (572, 21)\n",
            "Fold 3 | AUC: 0.763159859628164\n",
            "--------------------------------------------------------------------------------\n",
            "fold: 4, x_tr.shape: (5150, 21), x_val.shape: (572, 21)\n",
            "Fold 4 | AUC: 0.7322295228850891\n",
            "--------------------------------------------------------------------------------\n",
            "fold: 5, x_tr.shape: (5150, 21), x_val.shape: (572, 21)\n",
            "Fold 5 | AUC: 0.7734431520952751\n",
            "--------------------------------------------------------------------------------\n",
            "fold: 6, x_tr.shape: (5150, 21), x_val.shape: (572, 21)\n",
            "Fold 6 | AUC: 0.7903240766505277\n",
            "--------------------------------------------------------------------------------\n",
            "fold: 7, x_tr.shape: (5150, 21), x_val.shape: (572, 21)\n",
            "Fold 7 | AUC: 0.768193370063257\n",
            "--------------------------------------------------------------------------------\n",
            "fold: 8, x_tr.shape: (5150, 21), x_val.shape: (572, 21)\n",
            "Fold 8 | AUC: 0.7696959578533401\n",
            "--------------------------------------------------------------------------------\n",
            "fold: 9, x_tr.shape: (5150, 21), x_val.shape: (572, 21)\n",
            "Fold 9 | AUC: 0.7787856864600144\n",
            "--------------------------------------------------------------------------------\n",
            "fold: 10, x_tr.shape: (5150, 21), x_val.shape: (572, 21)\n",
            "Fold 10 | AUC: 0.7580648153301055\n",
            "--------------------------------------------------------------------------------\n"
          ]
        },
        {
          "output_type": "stream",
          "name": "stderr",
          "text": [
            "[I 2024-05-02 15:32:42,363] Trial 4 finished with value: 0.7661844886150135 and parameters: {'num_leaves': 240, 'max_bin': 155, 'min_data_in_leaf': 36, 'feature_fraction': 0.7569505690676188, 'bagging_fraction': 0.9369118786716435, 'bagging_freq': 2, 'lambda_l1': 0.0010318260545198149, 'lambda_l2': 0.013048260003345798}. Best is trial 1 with value: 0.7784599598395363.\n"
          ]
        },
        {
          "output_type": "stream",
          "name": "stdout",
          "text": [
            "\n",
            "Mean AUC = 0.7664844503009973\n",
            "OOF AUC = 0.7661844886150135\n",
            "fold: 1, x_tr.shape: (5149, 21), x_val.shape: (573, 21)\n",
            "Fold 1 | AUC: 0.7614944656276607\n",
            "--------------------------------------------------------------------------------\n",
            "fold: 2, x_tr.shape: (5149, 21), x_val.shape: (573, 21)\n",
            "Fold 2 | AUC: 0.7897678895346685\n",
            "--------------------------------------------------------------------------------\n",
            "fold: 3, x_tr.shape: (5150, 21), x_val.shape: (572, 21)\n",
            "Fold 3 | AUC: 0.7939875307996714\n",
            "--------------------------------------------------------------------------------\n",
            "fold: 4, x_tr.shape: (5150, 21), x_val.shape: (572, 21)\n",
            "Fold 4 | AUC: 0.7602945568580602\n",
            "--------------------------------------------------------------------------------\n",
            "fold: 5, x_tr.shape: (5150, 21), x_val.shape: (572, 21)\n",
            "Fold 5 | AUC: 0.7740182165581464\n",
            "--------------------------------------------------------------------------------\n",
            "fold: 6, x_tr.shape: (5150, 21), x_val.shape: (572, 21)\n",
            "Fold 6 | AUC: 0.7891924981913294\n",
            "--------------------------------------------------------------------------------\n",
            "fold: 7, x_tr.shape: (5150, 21), x_val.shape: (572, 21)\n",
            "Fold 7 | AUC: 0.7819578162390783\n",
            "--------------------------------------------------------------------------------\n",
            "fold: 8, x_tr.shape: (5150, 21), x_val.shape: (572, 21)\n",
            "Fold 8 | AUC: 0.7709573895783479\n",
            "--------------------------------------------------------------------------------\n",
            "fold: 9, x_tr.shape: (5150, 21), x_val.shape: (572, 21)\n",
            "Fold 9 | AUC: 0.782161871371065\n",
            "--------------------------------------------------------------------------------\n",
            "fold: 10, x_tr.shape: (5150, 21), x_val.shape: (572, 21)\n"
          ]
        },
        {
          "output_type": "stream",
          "name": "stderr",
          "text": [
            "[I 2024-05-02 15:32:47,496] Trial 5 finished with value: 0.7777448243648067 and parameters: {'num_leaves': 49, 'max_bin': 129, 'min_data_in_leaf': 21, 'feature_fraction': 0.5112651100244716, 'bagging_fraction': 0.6129536016434247, 'bagging_freq': 2, 'lambda_l1': 4.336033911509247, 'lambda_l2': 4.507205411380894e-08}. Best is trial 1 with value: 0.7784599598395363.\n"
          ]
        },
        {
          "output_type": "stream",
          "name": "stdout",
          "text": [
            "Fold 10 | AUC: 0.7727011334335059\n",
            "--------------------------------------------------------------------------------\n",
            "\n",
            "Mean AUC = 0.7776533368191535\n",
            "OOF AUC = 0.7777448243648067\n",
            "fold: 1, x_tr.shape: (5149, 21), x_val.shape: (573, 21)\n",
            "Fold 1 | AUC: 0.7383111835042386\n",
            "--------------------------------------------------------------------------------\n",
            "fold: 2, x_tr.shape: (5149, 21), x_val.shape: (573, 21)\n",
            "Fold 2 | AUC: 0.7966904823603449\n",
            "--------------------------------------------------------------------------------\n",
            "fold: 3, x_tr.shape: (5150, 21), x_val.shape: (572, 21)\n",
            "Fold 3 | AUC: 0.790692899275741\n",
            "--------------------------------------------------------------------------------\n",
            "fold: 4, x_tr.shape: (5150, 21), x_val.shape: (572, 21)\n",
            "Fold 4 | AUC: 0.7418240872097364\n",
            "--------------------------------------------------------------------------------\n",
            "fold: 5, x_tr.shape: (5150, 21), x_val.shape: (572, 21)\n",
            "Fold 5 | AUC: 0.7727382343665943\n",
            "--------------------------------------------------------------------------------\n",
            "fold: 6, x_tr.shape: (5150, 21), x_val.shape: (572, 21)\n",
            "Fold 6 | AUC: 0.7881907729979408\n",
            "--------------------------------------------------------------------------------\n",
            "fold: 7, x_tr.shape: (5150, 21), x_val.shape: (572, 21)\n",
            "Fold 7 | AUC: 0.7626096796334427\n",
            "--------------------------------------------------------------------------------\n",
            "fold: 8, x_tr.shape: (5150, 21), x_val.shape: (572, 21)\n",
            "Fold 8 | AUC: 0.7556347042128109\n",
            "--------------------------------------------------------------------------------\n",
            "fold: 9, x_tr.shape: (5150, 21), x_val.shape: (572, 21)\n",
            "Fold 9 | AUC: 0.7778952640658913\n",
            "--------------------------------------------------------------------------------\n",
            "fold: 10, x_tr.shape: (5150, 21), x_val.shape: (572, 21)\n"
          ]
        },
        {
          "output_type": "stream",
          "name": "stderr",
          "text": [
            "[I 2024-05-02 15:32:59,566] Trial 6 finished with value: 0.7689083898832465 and parameters: {'num_leaves': 145, 'max_bin': 172, 'min_data_in_leaf': 29, 'feature_fraction': 0.4823788388725004, 'bagging_fraction': 0.9919024775143187, 'bagging_freq': 3, 'lambda_l1': 1.1762430760353004e-06, 'lambda_l2': 2.57369534051916e-07}. Best is trial 1 with value: 0.7784599598395363.\n"
          ]
        },
        {
          "output_type": "stream",
          "name": "stdout",
          "text": [
            "Fold 10 | AUC: 0.7686200307937743\n",
            "--------------------------------------------------------------------------------\n",
            "\n",
            "Mean AUC = 0.7693207338420515\n",
            "OOF AUC = 0.7689083898832465\n",
            "fold: 1, x_tr.shape: (5149, 21), x_val.shape: (573, 21)\n",
            "Fold 1 | AUC: 0.7267056602376634\n",
            "--------------------------------------------------------------------------------\n",
            "fold: 2, x_tr.shape: (5149, 21), x_val.shape: (573, 21)\n",
            "Fold 2 | AUC: 0.7565246362862325\n",
            "--------------------------------------------------------------------------------\n",
            "fold: 3, x_tr.shape: (5150, 21), x_val.shape: (572, 21)\n",
            "Fold 3 | AUC: 0.7461920406182333\n",
            "--------------------------------------------------------------------------------\n",
            "fold: 4, x_tr.shape: (5150, 21), x_val.shape: (572, 21)\n",
            "Fold 4 | AUC: 0.7442880609273501\n",
            "--------------------------------------------------------------------------------\n",
            "fold: 5, x_tr.shape: (5150, 21), x_val.shape: (572, 21)\n",
            "Fold 5 | AUC: 0.7610885413768156\n",
            "--------------------------------------------------------------------------------\n",
            "fold: 6, x_tr.shape: (5150, 21), x_val.shape: (572, 21)\n",
            "Fold 6 | AUC: 0.7756135566809506\n",
            "--------------------------------------------------------------------------------\n",
            "fold: 7, x_tr.shape: (5150, 21), x_val.shape: (572, 21)\n",
            "Fold 7 | AUC: 0.7546700799525108\n",
            "--------------------------------------------------------------------------------\n",
            "fold: 8, x_tr.shape: (5150, 21), x_val.shape: (572, 21)\n",
            "Fold 8 | AUC: 0.7391433394549873\n",
            "--------------------------------------------------------------------------------\n",
            "fold: 9, x_tr.shape: (5150, 21), x_val.shape: (572, 21)\n",
            "Fold 9 | AUC: 0.7599940638507058\n",
            "--------------------------------------------------------------------------------\n",
            "fold: 10, x_tr.shape: (5150, 21), x_val.shape: (572, 21)\n"
          ]
        },
        {
          "output_type": "stream",
          "name": "stderr",
          "text": [
            "[I 2024-05-02 15:33:13,543] Trial 7 finished with value: 0.7500319323213015 and parameters: {'num_leaves': 139, 'max_bin': 256, 'min_data_in_leaf': 19, 'feature_fraction': 0.9249588086040011, 'bagging_fraction': 0.59753415016325, 'bagging_freq': 6, 'lambda_l1': 0.0029025859335670944, 'lambda_l2': 0.0007405790814661738}. Best is trial 1 with value: 0.7784599598395363.\n"
          ]
        },
        {
          "output_type": "stream",
          "name": "stdout",
          "text": [
            "Fold 10 | AUC: 0.7524069230341143\n",
            "--------------------------------------------------------------------------------\n",
            "\n",
            "Mean AUC = 0.7516626902419563\n",
            "OOF AUC = 0.7500319323213015\n",
            "fold: 1, x_tr.shape: (5149, 21), x_val.shape: (573, 21)\n",
            "Fold 1 | AUC: 0.7520823307296486\n",
            "--------------------------------------------------------------------------------\n",
            "fold: 2, x_tr.shape: (5149, 21), x_val.shape: (573, 21)\n",
            "Fold 2 | AUC: 0.7977270203235478\n",
            "--------------------------------------------------------------------------------\n",
            "fold: 3, x_tr.shape: (5150, 21), x_val.shape: (572, 21)\n",
            "Fold 3 | AUC: 0.7777757037258269\n",
            "--------------------------------------------------------------------------------\n",
            "fold: 4, x_tr.shape: (5150, 21), x_val.shape: (572, 21)\n",
            "Fold 4 | AUC: 0.7269095796311507\n",
            "--------------------------------------------------------------------------------\n",
            "fold: 5, x_tr.shape: (5150, 21), x_val.shape: (572, 21)\n",
            "Fold 5 | AUC: 0.7672843972025897\n",
            "--------------------------------------------------------------------------------\n",
            "fold: 6, x_tr.shape: (5150, 21), x_val.shape: (572, 21)\n",
            "Fold 6 | AUC: 0.791214499044651\n",
            "--------------------------------------------------------------------------------\n",
            "fold: 7, x_tr.shape: (5150, 21), x_val.shape: (572, 21)\n",
            "Fold 7 | AUC: 0.7728680876324039\n",
            "--------------------------------------------------------------------------------\n",
            "fold: 8, x_tr.shape: (5150, 21), x_val.shape: (572, 21)\n",
            "Fold 8 | AUC: 0.7712541970430555\n",
            "--------------------------------------------------------------------------------\n",
            "fold: 9, x_tr.shape: (5150, 21), x_val.shape: (572, 21)\n",
            "Fold 9 | AUC: 0.7725898306342405\n",
            "--------------------------------------------------------------------------------\n",
            "fold: 10, x_tr.shape: (5150, 21), x_val.shape: (572, 21)\n"
          ]
        },
        {
          "output_type": "stream",
          "name": "stderr",
          "text": [
            "[I 2024-05-02 15:33:24,037] Trial 8 finished with value: 0.7686219272566868 and parameters: {'num_leaves': 94, 'max_bin': 219, 'min_data_in_leaf': 37, 'feature_fraction': 0.9075722411182757, 'bagging_fraction': 0.6829918838804728, 'bagging_freq': 3, 'lambda_l1': 0.2730126526339058, 'lambda_l2': 0.05314120359055049}. Best is trial 1 with value: 0.7784599598395363.\n"
          ]
        },
        {
          "output_type": "stream",
          "name": "stdout",
          "text": [
            "Fold 10 | AUC: 0.7537796575583876\n",
            "--------------------------------------------------------------------------------\n",
            "\n",
            "Mean AUC = 0.7683485303525502\n",
            "OOF AUC = 0.7686219272566868\n",
            "fold: 1, x_tr.shape: (5149, 21), x_val.shape: (573, 21)\n",
            "Fold 1 | AUC: 0.7613186243660459\n",
            "--------------------------------------------------------------------------------\n",
            "fold: 2, x_tr.shape: (5149, 21), x_val.shape: (573, 21)\n",
            "Fold 2 | AUC: 0.7865472180061452\n",
            "--------------------------------------------------------------------------------\n",
            "fold: 3, x_tr.shape: (5150, 21), x_val.shape: (572, 21)\n",
            "Fold 3 | AUC: 0.7652691704621818\n",
            "--------------------------------------------------------------------------------\n",
            "fold: 4, x_tr.shape: (5150, 21), x_val.shape: (572, 21)\n",
            "Fold 4 | AUC: 0.7444373926678115\n",
            "--------------------------------------------------------------------------------\n",
            "fold: 5, x_tr.shape: (5150, 21), x_val.shape: (572, 21)\n",
            "Fold 5 | AUC: 0.7472684438013617\n",
            "--------------------------------------------------------------------------------\n",
            "fold: 6, x_tr.shape: (5150, 21), x_val.shape: (572, 21)\n",
            "Fold 6 | AUC: 0.7906023336486914\n",
            "--------------------------------------------------------------------------------\n",
            "fold: 7, x_tr.shape: (5150, 21), x_val.shape: (572, 21)\n",
            "Fold 7 | AUC: 0.7852505240506799\n",
            "--------------------------------------------------------------------------------\n",
            "fold: 8, x_tr.shape: (5150, 21), x_val.shape: (572, 21)\n",
            "Fold 8 | AUC: 0.7700391414844083\n",
            "--------------------------------------------------------------------------------\n",
            "fold: 9, x_tr.shape: (5150, 21), x_val.shape: (572, 21)\n",
            "Fold 9 | AUC: 0.7979854193332961\n",
            "--------------------------------------------------------------------------------\n",
            "fold: 10, x_tr.shape: (5150, 21), x_val.shape: (572, 21)\n",
            "Fold 10 | AUC: 0.7632218450294024\n",
            "--------------------------------------------------------------------------------\n"
          ]
        },
        {
          "output_type": "stream",
          "name": "stderr",
          "text": [
            "[I 2024-05-02 15:33:29,519] Trial 9 finished with value: 0.7710929690969391 and parameters: {'num_leaves': 195, 'max_bin': 148, 'min_data_in_leaf': 33, 'feature_fraction': 0.8201041164917047, 'bagging_fraction': 0.4498905500004663, 'bagging_freq': 4, 'lambda_l1': 8.806322226894994e-05, 'lambda_l2': 0.29946715148680153}. Best is trial 1 with value: 0.7784599598395363.\n"
          ]
        },
        {
          "output_type": "stream",
          "name": "stdout",
          "text": [
            "\n",
            "Mean AUC = 0.7711940112850025\n",
            "OOF AUC = 0.7710929690969391\n"
          ]
        }
      ],
      "source": [
        "study = optuna.create_study(direction='maximize')\n",
        "study.optimize(objective, n_trials=10) # 10회 동안 하이퍼 파라미터 탐색"
      ]
    },
    {
      "cell_type": "markdown",
      "id": "decimal-drink",
      "metadata": {
        "id": "decimal-drink"
      },
      "source": [
        "## Validation 스코어가 가장 잘 나온 하이퍼 파라미터 출력"
      ]
    },
    {
      "cell_type": "code",
      "execution_count": 68,
      "id": "published-square",
      "metadata": {
        "id": "published-square",
        "outputId": "9901a949-9a6b-44b7-d164-a40c2632d133",
        "colab": {
          "base_uri": "https://localhost:8080/"
        }
      },
      "outputs": [
        {
          "output_type": "execute_result",
          "data": {
            "text/plain": [
              "{'num_leaves': 28,\n",
              " 'max_bin': 176,\n",
              " 'min_data_in_leaf': 36,\n",
              " 'feature_fraction': 0.492876747535913,\n",
              " 'bagging_fraction': 0.9781231148156164,\n",
              " 'bagging_freq': 2,\n",
              " 'lambda_l1': 0.01605815887001025,\n",
              " 'lambda_l2': 6.454002264037791e-05}"
            ]
          },
          "metadata": {},
          "execution_count": 68
        }
      ],
      "source": [
        "study.best_params"
      ]
    },
    {
      "cell_type": "markdown",
      "id": "cross-lesson",
      "metadata": {
        "id": "cross-lesson"
      },
      "source": [
        "## 가장 성능이 잘 나온 Validation 스코어 출력"
      ]
    },
    {
      "cell_type": "code",
      "execution_count": 69,
      "id": "searching-provider",
      "metadata": {
        "id": "searching-provider",
        "outputId": "ace0432d-a7c4-40af-8a27-50d7259f46c3",
        "colab": {
          "base_uri": "https://localhost:8080/"
        }
      },
      "outputs": [
        {
          "output_type": "execute_result",
          "data": {
            "text/plain": [
              "0.7784599598395363"
            ]
          },
          "metadata": {},
          "execution_count": 69
        }
      ],
      "source": [
        "study.best_value"
      ]
    },
    {
      "cell_type": "markdown",
      "id": "nonprofit-hospital",
      "metadata": {
        "id": "nonprofit-hospital"
      },
      "source": [
        "## 하이퍼 파라미터 탐색 관련한 전체 데이터를 판다스 데이터 프레임으로 보기"
      ]
    },
    {
      "cell_type": "code",
      "execution_count": 70,
      "id": "dramatic-sapphire",
      "metadata": {
        "id": "dramatic-sapphire",
        "outputId": "44354454-3235-47ff-d6a9-4ed9e64b8f6d",
        "colab": {
          "base_uri": "https://localhost:8080/",
          "height": 557
        }
      },
      "outputs": [
        {
          "output_type": "execute_result",
          "data": {
            "text/plain": [
              "   number     value             datetime_start          datetime_complete  \\\n",
              "0       0  0.766047 2024-05-02 15:31:57.897956 2024-05-02 15:32:07.243320   \n",
              "1       1  0.778460 2024-05-02 15:32:07.254915 2024-05-02 15:32:16.560964   \n",
              "2       2  0.770605 2024-05-02 15:32:16.562756 2024-05-02 15:32:21.705586   \n",
              "3       3  0.764087 2024-05-02 15:32:21.707589 2024-05-02 15:32:31.149881   \n",
              "4       4  0.766184 2024-05-02 15:32:31.151747 2024-05-02 15:32:42.356230   \n",
              "5       5  0.777745 2024-05-02 15:32:42.371787 2024-05-02 15:32:47.496165   \n",
              "6       6  0.768908 2024-05-02 15:32:47.498674 2024-05-02 15:32:59.565980   \n",
              "7       7  0.750032 2024-05-02 15:32:59.567799 2024-05-02 15:33:13.543255   \n",
              "8       8  0.768622 2024-05-02 15:33:13.545268 2024-05-02 15:33:24.036766   \n",
              "9       9  0.771093 2024-05-02 15:33:24.039985 2024-05-02 15:33:29.519012   \n",
              "\n",
              "                duration  params_bagging_fraction  params_bagging_freq  \\\n",
              "0 0 days 00:00:09.345364                 0.577871                    7   \n",
              "1 0 days 00:00:09.306049                 0.978123                    2   \n",
              "2 0 days 00:00:05.142830                 0.729416                    2   \n",
              "3 0 days 00:00:09.442292                 0.798410                    7   \n",
              "4 0 days 00:00:11.204483                 0.936912                    2   \n",
              "5 0 days 00:00:05.124378                 0.612954                    2   \n",
              "6 0 days 00:00:12.067306                 0.991902                    3   \n",
              "7 0 days 00:00:13.975456                 0.597534                    6   \n",
              "8 0 days 00:00:10.491498                 0.682992                    3   \n",
              "9 0 days 00:00:05.479027                 0.449891                    4   \n",
              "\n",
              "   params_feature_fraction  params_lambda_l1  params_lambda_l2  \\\n",
              "0                 0.435277      4.323227e-08      1.035061e-01   \n",
              "1                 0.492877      1.605816e-02      6.454002e-05   \n",
              "2                 0.492045      1.642841e-03      2.790687e-01   \n",
              "3                 0.589348      1.435165e+00      1.204427e-03   \n",
              "4                 0.756951      1.031826e-03      1.304826e-02   \n",
              "5                 0.511265      4.336034e+00      4.507205e-08   \n",
              "6                 0.482379      1.176243e-06      2.573695e-07   \n",
              "7                 0.924959      2.902586e-03      7.405791e-04   \n",
              "8                 0.907572      2.730127e-01      5.314120e-02   \n",
              "9                 0.820104      8.806322e-05      2.994672e-01   \n",
              "\n",
              "   params_max_bin  params_min_data_in_leaf  params_num_leaves     state  \n",
              "0             165                       24                 93  COMPLETE  \n",
              "1             176                       36                 28  COMPLETE  \n",
              "2             255                       35                 35  COMPLETE  \n",
              "3             148                       21                141  COMPLETE  \n",
              "4             155                       36                240  COMPLETE  \n",
              "5             129                       21                 49  COMPLETE  \n",
              "6             172                       29                145  COMPLETE  \n",
              "7             256                       19                139  COMPLETE  \n",
              "8             219                       37                 94  COMPLETE  \n",
              "9             148                       33                195  COMPLETE  "
            ],
            "text/html": [
              "\n",
              "  <div id=\"df-4d2f6a9b-fed7-45d8-afa8-e3184317fdd4\" class=\"colab-df-container\">\n",
              "    <div>\n",
              "<style scoped>\n",
              "    .dataframe tbody tr th:only-of-type {\n",
              "        vertical-align: middle;\n",
              "    }\n",
              "\n",
              "    .dataframe tbody tr th {\n",
              "        vertical-align: top;\n",
              "    }\n",
              "\n",
              "    .dataframe thead th {\n",
              "        text-align: right;\n",
              "    }\n",
              "</style>\n",
              "<table border=\"1\" class=\"dataframe\">\n",
              "  <thead>\n",
              "    <tr style=\"text-align: right;\">\n",
              "      <th></th>\n",
              "      <th>number</th>\n",
              "      <th>value</th>\n",
              "      <th>datetime_start</th>\n",
              "      <th>datetime_complete</th>\n",
              "      <th>duration</th>\n",
              "      <th>params_bagging_fraction</th>\n",
              "      <th>params_bagging_freq</th>\n",
              "      <th>params_feature_fraction</th>\n",
              "      <th>params_lambda_l1</th>\n",
              "      <th>params_lambda_l2</th>\n",
              "      <th>params_max_bin</th>\n",
              "      <th>params_min_data_in_leaf</th>\n",
              "      <th>params_num_leaves</th>\n",
              "      <th>state</th>\n",
              "    </tr>\n",
              "  </thead>\n",
              "  <tbody>\n",
              "    <tr>\n",
              "      <th>0</th>\n",
              "      <td>0</td>\n",
              "      <td>0.766047</td>\n",
              "      <td>2024-05-02 15:31:57.897956</td>\n",
              "      <td>2024-05-02 15:32:07.243320</td>\n",
              "      <td>0 days 00:00:09.345364</td>\n",
              "      <td>0.577871</td>\n",
              "      <td>7</td>\n",
              "      <td>0.435277</td>\n",
              "      <td>4.323227e-08</td>\n",
              "      <td>1.035061e-01</td>\n",
              "      <td>165</td>\n",
              "      <td>24</td>\n",
              "      <td>93</td>\n",
              "      <td>COMPLETE</td>\n",
              "    </tr>\n",
              "    <tr>\n",
              "      <th>1</th>\n",
              "      <td>1</td>\n",
              "      <td>0.778460</td>\n",
              "      <td>2024-05-02 15:32:07.254915</td>\n",
              "      <td>2024-05-02 15:32:16.560964</td>\n",
              "      <td>0 days 00:00:09.306049</td>\n",
              "      <td>0.978123</td>\n",
              "      <td>2</td>\n",
              "      <td>0.492877</td>\n",
              "      <td>1.605816e-02</td>\n",
              "      <td>6.454002e-05</td>\n",
              "      <td>176</td>\n",
              "      <td>36</td>\n",
              "      <td>28</td>\n",
              "      <td>COMPLETE</td>\n",
              "    </tr>\n",
              "    <tr>\n",
              "      <th>2</th>\n",
              "      <td>2</td>\n",
              "      <td>0.770605</td>\n",
              "      <td>2024-05-02 15:32:16.562756</td>\n",
              "      <td>2024-05-02 15:32:21.705586</td>\n",
              "      <td>0 days 00:00:05.142830</td>\n",
              "      <td>0.729416</td>\n",
              "      <td>2</td>\n",
              "      <td>0.492045</td>\n",
              "      <td>1.642841e-03</td>\n",
              "      <td>2.790687e-01</td>\n",
              "      <td>255</td>\n",
              "      <td>35</td>\n",
              "      <td>35</td>\n",
              "      <td>COMPLETE</td>\n",
              "    </tr>\n",
              "    <tr>\n",
              "      <th>3</th>\n",
              "      <td>3</td>\n",
              "      <td>0.764087</td>\n",
              "      <td>2024-05-02 15:32:21.707589</td>\n",
              "      <td>2024-05-02 15:32:31.149881</td>\n",
              "      <td>0 days 00:00:09.442292</td>\n",
              "      <td>0.798410</td>\n",
              "      <td>7</td>\n",
              "      <td>0.589348</td>\n",
              "      <td>1.435165e+00</td>\n",
              "      <td>1.204427e-03</td>\n",
              "      <td>148</td>\n",
              "      <td>21</td>\n",
              "      <td>141</td>\n",
              "      <td>COMPLETE</td>\n",
              "    </tr>\n",
              "    <tr>\n",
              "      <th>4</th>\n",
              "      <td>4</td>\n",
              "      <td>0.766184</td>\n",
              "      <td>2024-05-02 15:32:31.151747</td>\n",
              "      <td>2024-05-02 15:32:42.356230</td>\n",
              "      <td>0 days 00:00:11.204483</td>\n",
              "      <td>0.936912</td>\n",
              "      <td>2</td>\n",
              "      <td>0.756951</td>\n",
              "      <td>1.031826e-03</td>\n",
              "      <td>1.304826e-02</td>\n",
              "      <td>155</td>\n",
              "      <td>36</td>\n",
              "      <td>240</td>\n",
              "      <td>COMPLETE</td>\n",
              "    </tr>\n",
              "    <tr>\n",
              "      <th>5</th>\n",
              "      <td>5</td>\n",
              "      <td>0.777745</td>\n",
              "      <td>2024-05-02 15:32:42.371787</td>\n",
              "      <td>2024-05-02 15:32:47.496165</td>\n",
              "      <td>0 days 00:00:05.124378</td>\n",
              "      <td>0.612954</td>\n",
              "      <td>2</td>\n",
              "      <td>0.511265</td>\n",
              "      <td>4.336034e+00</td>\n",
              "      <td>4.507205e-08</td>\n",
              "      <td>129</td>\n",
              "      <td>21</td>\n",
              "      <td>49</td>\n",
              "      <td>COMPLETE</td>\n",
              "    </tr>\n",
              "    <tr>\n",
              "      <th>6</th>\n",
              "      <td>6</td>\n",
              "      <td>0.768908</td>\n",
              "      <td>2024-05-02 15:32:47.498674</td>\n",
              "      <td>2024-05-02 15:32:59.565980</td>\n",
              "      <td>0 days 00:00:12.067306</td>\n",
              "      <td>0.991902</td>\n",
              "      <td>3</td>\n",
              "      <td>0.482379</td>\n",
              "      <td>1.176243e-06</td>\n",
              "      <td>2.573695e-07</td>\n",
              "      <td>172</td>\n",
              "      <td>29</td>\n",
              "      <td>145</td>\n",
              "      <td>COMPLETE</td>\n",
              "    </tr>\n",
              "    <tr>\n",
              "      <th>7</th>\n",
              "      <td>7</td>\n",
              "      <td>0.750032</td>\n",
              "      <td>2024-05-02 15:32:59.567799</td>\n",
              "      <td>2024-05-02 15:33:13.543255</td>\n",
              "      <td>0 days 00:00:13.975456</td>\n",
              "      <td>0.597534</td>\n",
              "      <td>6</td>\n",
              "      <td>0.924959</td>\n",
              "      <td>2.902586e-03</td>\n",
              "      <td>7.405791e-04</td>\n",
              "      <td>256</td>\n",
              "      <td>19</td>\n",
              "      <td>139</td>\n",
              "      <td>COMPLETE</td>\n",
              "    </tr>\n",
              "    <tr>\n",
              "      <th>8</th>\n",
              "      <td>8</td>\n",
              "      <td>0.768622</td>\n",
              "      <td>2024-05-02 15:33:13.545268</td>\n",
              "      <td>2024-05-02 15:33:24.036766</td>\n",
              "      <td>0 days 00:00:10.491498</td>\n",
              "      <td>0.682992</td>\n",
              "      <td>3</td>\n",
              "      <td>0.907572</td>\n",
              "      <td>2.730127e-01</td>\n",
              "      <td>5.314120e-02</td>\n",
              "      <td>219</td>\n",
              "      <td>37</td>\n",
              "      <td>94</td>\n",
              "      <td>COMPLETE</td>\n",
              "    </tr>\n",
              "    <tr>\n",
              "      <th>9</th>\n",
              "      <td>9</td>\n",
              "      <td>0.771093</td>\n",
              "      <td>2024-05-02 15:33:24.039985</td>\n",
              "      <td>2024-05-02 15:33:29.519012</td>\n",
              "      <td>0 days 00:00:05.479027</td>\n",
              "      <td>0.449891</td>\n",
              "      <td>4</td>\n",
              "      <td>0.820104</td>\n",
              "      <td>8.806322e-05</td>\n",
              "      <td>2.994672e-01</td>\n",
              "      <td>148</td>\n",
              "      <td>33</td>\n",
              "      <td>195</td>\n",
              "      <td>COMPLETE</td>\n",
              "    </tr>\n",
              "  </tbody>\n",
              "</table>\n",
              "</div>\n",
              "    <div class=\"colab-df-buttons\">\n",
              "\n",
              "  <div class=\"colab-df-container\">\n",
              "    <button class=\"colab-df-convert\" onclick=\"convertToInteractive('df-4d2f6a9b-fed7-45d8-afa8-e3184317fdd4')\"\n",
              "            title=\"Convert this dataframe to an interactive table.\"\n",
              "            style=\"display:none;\">\n",
              "\n",
              "  <svg xmlns=\"http://www.w3.org/2000/svg\" height=\"24px\" viewBox=\"0 -960 960 960\">\n",
              "    <path d=\"M120-120v-720h720v720H120Zm60-500h600v-160H180v160Zm220 220h160v-160H400v160Zm0 220h160v-160H400v160ZM180-400h160v-160H180v160Zm440 0h160v-160H620v160ZM180-180h160v-160H180v160Zm440 0h160v-160H620v160Z\"/>\n",
              "  </svg>\n",
              "    </button>\n",
              "\n",
              "  <style>\n",
              "    .colab-df-container {\n",
              "      display:flex;\n",
              "      gap: 12px;\n",
              "    }\n",
              "\n",
              "    .colab-df-convert {\n",
              "      background-color: #E8F0FE;\n",
              "      border: none;\n",
              "      border-radius: 50%;\n",
              "      cursor: pointer;\n",
              "      display: none;\n",
              "      fill: #1967D2;\n",
              "      height: 32px;\n",
              "      padding: 0 0 0 0;\n",
              "      width: 32px;\n",
              "    }\n",
              "\n",
              "    .colab-df-convert:hover {\n",
              "      background-color: #E2EBFA;\n",
              "      box-shadow: 0px 1px 2px rgba(60, 64, 67, 0.3), 0px 1px 3px 1px rgba(60, 64, 67, 0.15);\n",
              "      fill: #174EA6;\n",
              "    }\n",
              "\n",
              "    .colab-df-buttons div {\n",
              "      margin-bottom: 4px;\n",
              "    }\n",
              "\n",
              "    [theme=dark] .colab-df-convert {\n",
              "      background-color: #3B4455;\n",
              "      fill: #D2E3FC;\n",
              "    }\n",
              "\n",
              "    [theme=dark] .colab-df-convert:hover {\n",
              "      background-color: #434B5C;\n",
              "      box-shadow: 0px 1px 3px 1px rgba(0, 0, 0, 0.15);\n",
              "      filter: drop-shadow(0px 1px 2px rgba(0, 0, 0, 0.3));\n",
              "      fill: #FFFFFF;\n",
              "    }\n",
              "  </style>\n",
              "\n",
              "    <script>\n",
              "      const buttonEl =\n",
              "        document.querySelector('#df-4d2f6a9b-fed7-45d8-afa8-e3184317fdd4 button.colab-df-convert');\n",
              "      buttonEl.style.display =\n",
              "        google.colab.kernel.accessAllowed ? 'block' : 'none';\n",
              "\n",
              "      async function convertToInteractive(key) {\n",
              "        const element = document.querySelector('#df-4d2f6a9b-fed7-45d8-afa8-e3184317fdd4');\n",
              "        const dataTable =\n",
              "          await google.colab.kernel.invokeFunction('convertToInteractive',\n",
              "                                                    [key], {});\n",
              "        if (!dataTable) return;\n",
              "\n",
              "        const docLinkHtml = 'Like what you see? Visit the ' +\n",
              "          '<a target=\"_blank\" href=https://colab.research.google.com/notebooks/data_table.ipynb>data table notebook</a>'\n",
              "          + ' to learn more about interactive tables.';\n",
              "        element.innerHTML = '';\n",
              "        dataTable['output_type'] = 'display_data';\n",
              "        await google.colab.output.renderOutput(dataTable, element);\n",
              "        const docLink = document.createElement('div');\n",
              "        docLink.innerHTML = docLinkHtml;\n",
              "        element.appendChild(docLink);\n",
              "      }\n",
              "    </script>\n",
              "  </div>\n",
              "\n",
              "\n",
              "<div id=\"df-c3908bb5-87a6-4809-be20-f414e0993798\">\n",
              "  <button class=\"colab-df-quickchart\" onclick=\"quickchart('df-c3908bb5-87a6-4809-be20-f414e0993798')\"\n",
              "            title=\"Suggest charts\"\n",
              "            style=\"display:none;\">\n",
              "\n",
              "<svg xmlns=\"http://www.w3.org/2000/svg\" height=\"24px\"viewBox=\"0 0 24 24\"\n",
              "     width=\"24px\">\n",
              "    <g>\n",
              "        <path d=\"M19 3H5c-1.1 0-2 .9-2 2v14c0 1.1.9 2 2 2h14c1.1 0 2-.9 2-2V5c0-1.1-.9-2-2-2zM9 17H7v-7h2v7zm4 0h-2V7h2v10zm4 0h-2v-4h2v4z\"/>\n",
              "    </g>\n",
              "</svg>\n",
              "  </button>\n",
              "\n",
              "<style>\n",
              "  .colab-df-quickchart {\n",
              "      --bg-color: #E8F0FE;\n",
              "      --fill-color: #1967D2;\n",
              "      --hover-bg-color: #E2EBFA;\n",
              "      --hover-fill-color: #174EA6;\n",
              "      --disabled-fill-color: #AAA;\n",
              "      --disabled-bg-color: #DDD;\n",
              "  }\n",
              "\n",
              "  [theme=dark] .colab-df-quickchart {\n",
              "      --bg-color: #3B4455;\n",
              "      --fill-color: #D2E3FC;\n",
              "      --hover-bg-color: #434B5C;\n",
              "      --hover-fill-color: #FFFFFF;\n",
              "      --disabled-bg-color: #3B4455;\n",
              "      --disabled-fill-color: #666;\n",
              "  }\n",
              "\n",
              "  .colab-df-quickchart {\n",
              "    background-color: var(--bg-color);\n",
              "    border: none;\n",
              "    border-radius: 50%;\n",
              "    cursor: pointer;\n",
              "    display: none;\n",
              "    fill: var(--fill-color);\n",
              "    height: 32px;\n",
              "    padding: 0;\n",
              "    width: 32px;\n",
              "  }\n",
              "\n",
              "  .colab-df-quickchart:hover {\n",
              "    background-color: var(--hover-bg-color);\n",
              "    box-shadow: 0 1px 2px rgba(60, 64, 67, 0.3), 0 1px 3px 1px rgba(60, 64, 67, 0.15);\n",
              "    fill: var(--button-hover-fill-color);\n",
              "  }\n",
              "\n",
              "  .colab-df-quickchart-complete:disabled,\n",
              "  .colab-df-quickchart-complete:disabled:hover {\n",
              "    background-color: var(--disabled-bg-color);\n",
              "    fill: var(--disabled-fill-color);\n",
              "    box-shadow: none;\n",
              "  }\n",
              "\n",
              "  .colab-df-spinner {\n",
              "    border: 2px solid var(--fill-color);\n",
              "    border-color: transparent;\n",
              "    border-bottom-color: var(--fill-color);\n",
              "    animation:\n",
              "      spin 1s steps(1) infinite;\n",
              "  }\n",
              "\n",
              "  @keyframes spin {\n",
              "    0% {\n",
              "      border-color: transparent;\n",
              "      border-bottom-color: var(--fill-color);\n",
              "      border-left-color: var(--fill-color);\n",
              "    }\n",
              "    20% {\n",
              "      border-color: transparent;\n",
              "      border-left-color: var(--fill-color);\n",
              "      border-top-color: var(--fill-color);\n",
              "    }\n",
              "    30% {\n",
              "      border-color: transparent;\n",
              "      border-left-color: var(--fill-color);\n",
              "      border-top-color: var(--fill-color);\n",
              "      border-right-color: var(--fill-color);\n",
              "    }\n",
              "    40% {\n",
              "      border-color: transparent;\n",
              "      border-right-color: var(--fill-color);\n",
              "      border-top-color: var(--fill-color);\n",
              "    }\n",
              "    60% {\n",
              "      border-color: transparent;\n",
              "      border-right-color: var(--fill-color);\n",
              "    }\n",
              "    80% {\n",
              "      border-color: transparent;\n",
              "      border-right-color: var(--fill-color);\n",
              "      border-bottom-color: var(--fill-color);\n",
              "    }\n",
              "    90% {\n",
              "      border-color: transparent;\n",
              "      border-bottom-color: var(--fill-color);\n",
              "    }\n",
              "  }\n",
              "</style>\n",
              "\n",
              "  <script>\n",
              "    async function quickchart(key) {\n",
              "      const quickchartButtonEl =\n",
              "        document.querySelector('#' + key + ' button');\n",
              "      quickchartButtonEl.disabled = true;  // To prevent multiple clicks.\n",
              "      quickchartButtonEl.classList.add('colab-df-spinner');\n",
              "      try {\n",
              "        const charts = await google.colab.kernel.invokeFunction(\n",
              "            'suggestCharts', [key], {});\n",
              "      } catch (error) {\n",
              "        console.error('Error during call to suggestCharts:', error);\n",
              "      }\n",
              "      quickchartButtonEl.classList.remove('colab-df-spinner');\n",
              "      quickchartButtonEl.classList.add('colab-df-quickchart-complete');\n",
              "    }\n",
              "    (() => {\n",
              "      let quickchartButtonEl =\n",
              "        document.querySelector('#df-c3908bb5-87a6-4809-be20-f414e0993798 button');\n",
              "      quickchartButtonEl.style.display =\n",
              "        google.colab.kernel.accessAllowed ? 'block' : 'none';\n",
              "    })();\n",
              "  </script>\n",
              "</div>\n",
              "\n",
              "    </div>\n",
              "  </div>\n"
            ],
            "application/vnd.google.colaboratory.intrinsic+json": {
              "type": "dataframe",
              "summary": "{\n  \"name\": \"study\",\n  \"rows\": 10,\n  \"fields\": [\n    {\n      \"column\": \"number\",\n      \"properties\": {\n        \"dtype\": \"number\",\n        \"std\": 3,\n        \"min\": 0,\n        \"max\": 9,\n        \"num_unique_values\": 10,\n        \"samples\": [\n          8,\n          1,\n          5\n        ],\n        \"semantic_type\": \"\",\n        \"description\": \"\"\n      }\n    },\n    {\n      \"column\": \"value\",\n      \"properties\": {\n        \"dtype\": \"number\",\n        \"std\": 0.007936517039188512,\n        \"min\": 0.7500319323213015,\n        \"max\": 0.7784599598395363,\n        \"num_unique_values\": 10,\n        \"samples\": [\n          0.7686219272566868,\n          0.7784599598395363,\n          0.7777448243648067\n        ],\n        \"semantic_type\": \"\",\n        \"description\": \"\"\n      }\n    },\n    {\n      \"column\": \"datetime_start\",\n      \"properties\": {\n        \"dtype\": \"date\",\n        \"min\": \"2024-05-02 15:31:57.897956\",\n        \"max\": \"2024-05-02 15:33:24.039985\",\n        \"num_unique_values\": 10,\n        \"samples\": [\n          \"2024-05-02 15:33:13.545268\",\n          \"2024-05-02 15:32:07.254915\",\n          \"2024-05-02 15:32:42.371787\"\n        ],\n        \"semantic_type\": \"\",\n        \"description\": \"\"\n      }\n    },\n    {\n      \"column\": \"datetime_complete\",\n      \"properties\": {\n        \"dtype\": \"date\",\n        \"min\": \"2024-05-02 15:32:07.243320\",\n        \"max\": \"2024-05-02 15:33:29.519012\",\n        \"num_unique_values\": 10,\n        \"samples\": [\n          \"2024-05-02 15:33:24.036766\",\n          \"2024-05-02 15:32:16.560964\",\n          \"2024-05-02 15:32:47.496165\"\n        ],\n        \"semantic_type\": \"\",\n        \"description\": \"\"\n      }\n    },\n    {\n      \"column\": \"duration\",\n      \"properties\": {\n        \"dtype\": \"timedelta64[ns]\",\n        \"num_unique_values\": 10,\n        \"samples\": [\n          \"0 days 00:00:10.491498\",\n          \"0 days 00:00:09.306049\",\n          \"0 days 00:00:05.124378\"\n        ],\n        \"semantic_type\": \"\",\n        \"description\": \"\"\n      }\n    },\n    {\n      \"column\": \"params_bagging_fraction\",\n      \"properties\": {\n        \"dtype\": \"number\",\n        \"std\": 0.1863087607611572,\n        \"min\": 0.4498905500004663,\n        \"max\": 0.9919024775143187,\n        \"num_unique_values\": 10,\n        \"samples\": [\n          0.6829918838804728,\n          0.9781231148156164,\n          0.6129536016434247\n        ],\n        \"semantic_type\": \"\",\n        \"description\": \"\"\n      }\n    },\n    {\n      \"column\": \"params_bagging_freq\",\n      \"properties\": {\n        \"dtype\": \"number\",\n        \"std\": 2,\n        \"min\": 2,\n        \"max\": 7,\n        \"num_unique_values\": 5,\n        \"samples\": [\n          2,\n          4,\n          3\n        ],\n        \"semantic_type\": \"\",\n        \"description\": \"\"\n      }\n    },\n    {\n      \"column\": \"params_feature_fraction\",\n      \"properties\": {\n        \"dtype\": \"number\",\n        \"std\": 0.1909989025506335,\n        \"min\": 0.43527705667816896,\n        \"max\": 0.9249588086040011,\n        \"num_unique_values\": 10,\n        \"samples\": [\n          0.9075722411182757,\n          0.492876747535913,\n          0.5112651100244716\n        ],\n        \"semantic_type\": \"\",\n        \"description\": \"\"\n      }\n    },\n    {\n      \"column\": \"params_lambda_l1\",\n      \"properties\": {\n        \"dtype\": \"number\",\n        \"std\": 1.3846835578292538,\n        \"min\": 4.323227121706209e-08,\n        \"max\": 4.336033911509247,\n        \"num_unique_values\": 10,\n        \"samples\": [\n          0.2730126526339058,\n          0.01605815887001025,\n          4.336033911509247\n        ],\n        \"semantic_type\": \"\",\n        \"description\": \"\"\n      }\n    },\n    {\n      \"column\": \"params_lambda_l2\",\n      \"properties\": {\n        \"dtype\": \"number\",\n        \"std\": 0.11784334678373695,\n        \"min\": 4.507205411380894e-08,\n        \"max\": 0.29946715148680153,\n        \"num_unique_values\": 10,\n        \"samples\": [\n          0.05314120359055049,\n          6.454002264037791e-05,\n          4.507205411380894e-08\n        ],\n        \"semantic_type\": \"\",\n        \"description\": \"\"\n      }\n    },\n    {\n      \"column\": \"params_max_bin\",\n      \"properties\": {\n        \"dtype\": \"number\",\n        \"std\": 45,\n        \"min\": 129,\n        \"max\": 256,\n        \"num_unique_values\": 9,\n        \"samples\": [\n          256,\n          176,\n          129\n        ],\n        \"semantic_type\": \"\",\n        \"description\": \"\"\n      }\n    },\n    {\n      \"column\": \"params_min_data_in_leaf\",\n      \"properties\": {\n        \"dtype\": \"number\",\n        \"std\": 7,\n        \"min\": 19,\n        \"max\": 37,\n        \"num_unique_values\": 8,\n        \"samples\": [\n          36,\n          19,\n          24\n        ],\n        \"semantic_type\": \"\",\n        \"description\": \"\"\n      }\n    },\n    {\n      \"column\": \"params_num_leaves\",\n      \"properties\": {\n        \"dtype\": \"number\",\n        \"std\": 69,\n        \"min\": 28,\n        \"max\": 240,\n        \"num_unique_values\": 10,\n        \"samples\": [\n          94,\n          28,\n          49\n        ],\n        \"semantic_type\": \"\",\n        \"description\": \"\"\n      }\n    },\n    {\n      \"column\": \"state\",\n      \"properties\": {\n        \"dtype\": \"category\",\n        \"num_unique_values\": 1,\n        \"samples\": [\n          \"COMPLETE\"\n        ],\n        \"semantic_type\": \"\",\n        \"description\": \"\"\n      }\n    }\n  ]\n}"
            }
          },
          "metadata": {},
          "execution_count": 70
        }
      ],
      "source": [
        "study.trials_dataframe()"
      ]
    },
    {
      "cell_type": "markdown",
      "id": "silver-ordinary",
      "metadata": {
        "id": "silver-ordinary"
      },
      "source": [
        "## 하이퍼 파라미터 중요도 Visualization"
      ]
    },
    {
      "cell_type": "code",
      "execution_count": 71,
      "id": "abandoned-talent",
      "metadata": {
        "id": "abandoned-talent",
        "outputId": "135d4ad5-41a9-407a-990e-c4429f77c177",
        "colab": {
          "base_uri": "https://localhost:8080/",
          "height": 491
        }
      },
      "outputs": [
        {
          "output_type": "display_data",
          "data": {
            "text/plain": [
              "<Figure size 640x480 with 1 Axes>"
            ],
            "image/png": "[encoded data removed]"
          },
          "metadata": {}
        }
      ],
      "source": [
        "optuna.visualization.matplotlib.plot_param_importances(study)\n",
        "plt.show()"
      ]
    },
    {
      "cell_type": "markdown",
      "id": "neutral-technical",
      "metadata": {
        "id": "neutral-technical"
      },
      "source": [
        "## 하이퍼 파라미터 탐색 히스토리 Visualization"
      ]
    },
    {
      "cell_type": "code",
      "execution_count": 72,
      "id": "national-macintosh",
      "metadata": {
        "id": "national-macintosh",
        "outputId": "33f3e635-6c52-4cd2-a6e0-3f46d438cee1",
        "colab": {
          "base_uri": "https://localhost:8080/",
          "height": 491
        }
      },
      "outputs": [
        {
          "output_type": "display_data",
          "data": {
            "text/plain": [
              "<Figure size 640x480 with 1 Axes>"
            ],
            "image/png": "[encoded data removed]"
          },
          "metadata": {}
        }
      ],
      "source": [
        "optuna.visualization.matplotlib.plot_optimization_history(study)\n",
        "plt.show()"
      ]
    },
    {
      "cell_type": "markdown",
      "id": "chief-seattle",
      "metadata": {
        "id": "chief-seattle"
      },
      "source": [
        "## 하이퍼 파라미터별 Validation 스코어의 관계 Visualization"
      ]
    },
    {
      "cell_type": "code",
      "execution_count": 73,
      "id": "suburban-debut",
      "metadata": {
        "id": "suburban-debut",
        "outputId": "c958dadb-7fad-4752-f60c-9d9da19a6dd5",
        "colab": {
          "base_uri": "https://localhost:8080/",
          "height": 268
        }
      },
      "outputs": [
        {
          "output_type": "display_data",
          "data": {
            "text/plain": [
              "<Figure size 2560x480 with 9 Axes>"
            ],
            "image/png": "[encoded data removed]"
          },
          "metadata": {}
        }
      ],
      "source": [
        "optuna.visualization.matplotlib.plot_slice(study)\n",
        "plt.show()"
      ]
    },
    {
      "cell_type": "markdown",
      "id": "combined-answer",
      "metadata": {
        "id": "combined-answer"
      },
      "source": [
        "## 하이퍼 파라미터 Contour Visualization"
      ]
    },
    {
      "cell_type": "code",
      "execution_count": 74,
      "id": "equivalent-yemen",
      "metadata": {
        "id": "equivalent-yemen",
        "outputId": "397df1a8-c758-4728-d5f0-9d47ed52532a",
        "colab": {
          "base_uri": "https://localhost:8080/",
          "height": 529
        }
      },
      "outputs": [
        {
          "output_type": "stream",
          "name": "stderr",
          "text": [
            "[W 2024-05-02 15:34:07,027] Output figures of this Matplotlib-based `plot_contour` function would be different from those of the Plotly-based `plot_contour`.\n"
          ]
        },
        {
          "output_type": "display_data",
          "data": {
            "text/plain": [
              "<Figure size 640x480 with 2 Axes>"
            ],
            "image/png": "[encoded data removed]"
          },
          "metadata": {}
        }
      ],
      "source": [
        "optuna.visualization.matplotlib.plot_contour(study, params=['num_leaves','min_data_in_leaf'])\n",
        "plt.show()"
      ]
    },
    {
      "cell_type": "markdown",
      "id": "novel-brick",
      "metadata": {
        "id": "novel-brick"
      },
      "source": [
        "## 하이퍼 파라미터 Parallel Coodinate Visualization"
      ]
    },
    {
      "cell_type": "code",
      "execution_count": 75,
      "id": "front-elements",
      "metadata": {
        "id": "front-elements",
        "outputId": "fceba9bd-8b86-4568-ec0e-5fa3c645b9a5",
        "colab": {
          "base_uri": "https://localhost:8080/",
          "height": 524
        }
      },
      "outputs": [
        {
          "output_type": "display_data",
          "data": {
            "text/plain": [
              "<Figure size 640x480 with 4 Axes>"
            ],
            "image/png": "[encoded data removed]"
          },
          "metadata": {}
        }
      ],
      "source": [
        "optuna.visualization.matplotlib.plot_parallel_coordinate(study, params=['num_leaves','min_data_in_leaf'])\n",
        "plt.show()"
      ]
    },
    {
      "cell_type": "markdown",
      "id": "3ed12987",
      "metadata": {
        "id": "3ed12987"
      },
      "source": [
        "ALL RIGHTS RESERVED. (C)NAVER Connect Foundation."
      ]
    },
    {
      "cell_type": "code",
      "source": [],
      "metadata": {
        "id": "YVp4jRf78Qq_"
      },
      "id": "YVp4jRf78Qq_",
      "execution_count": 75,
      "outputs": []
    }
  ],
  "metadata": {
    "hide_input": false,
    "kernelspec": {
      "display_name": "Python 3 (ipykernel)",
      "language": "python",
      "name": "python3"
    },
    "language_info": {
      "codemirror_mode": {
        "name": "ipython",
        "version": 3
      },
      "file_extension": ".py",
      "mimetype": "text/x-python",
      "name": "python",
      "nbconvert_exporter": "python",
      "pygments_lexer": "ipython3",
      "version": "3.8.1"
    },
    "toc": {
      "base_numbering": 1,
      "nav_menu": {},
      "number_sections": true,
      "sideBar": true,
      "skip_h1_title": false,
      "title_cell": "Table of Contents",
      "title_sidebar": "Contents",
      "toc_cell": false,
      "toc_position": {},
      "toc_section_display": true,
      "toc_window_display": false
    },
    "colab": {
      "provenance": [],
      "include_colab_link": true
    }
  },
  "nbformat": 4,
  "nbformat_minor": 5
}